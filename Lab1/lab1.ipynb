{
 "cells": [
  {
   "cell_type": "markdown",
   "metadata": {},
   "source": [
    "# Lab 1\n",
    "[Link to instructions](https://github.com/squillero/computational-intelligence/blob/master/2022-23/lab1_set-covering.ipynb)\n"
   ]
  },
  {
   "cell_type": "code",
   "execution_count": 329,
   "metadata": {},
   "outputs": [],
   "source": [
    "import random\n",
    "import logging"
   ]
  },
  {
   "cell_type": "markdown",
   "metadata": {},
   "source": [
    "## The problem\n",
    "The function that creates the problem, provided by professor Giovanni Squillero."
   ]
  },
  {
   "cell_type": "code",
   "execution_count": 330,
   "metadata": {},
   "outputs": [],
   "source": [
    "def problem(N, seed=None):\n",
    "    \"\"\"Creates a list whose elements are lists that contains a random amount of numbers between 0 and N-1\"\"\"\n",
    "    random.seed(seed)\n",
    "    return [\n",
    "        list(set(random.randint(0, N - 1) for n in range(random.randint(N // 5, N // 2))))\n",
    "        for n in range(random.randint(N, N * 5))\n",
    "    ]"
   ]
  },
  {
   "cell_type": "markdown",
   "metadata": {},
   "source": [
    "### Functions that help the search function with specific tasks"
   ]
  },
  {
   "cell_type": "code",
   "execution_count": 331,
   "metadata": {},
   "outputs": [],
   "source": [
    "def goal_test(current_state, goal_state):\n",
    "    \"\"\"Checks if the current state is the same as the goal state\"\"\"\n",
    "    return all(elem in current_state for elem in goal_state)\n",
    "\n",
    "def count_unique_elem(current_state, l):\n",
    "    \"\"\"Returns the number of different elements between the lists\"\"\"\n",
    "    return len(set(l).difference(set(current_state)))\n",
    "\n",
    "def count_unique_elem_opt(current_state, l):\n",
    "    \"\"\"Returns the number of different elements between the lists\"\"\"\n",
    "    return len(set(l).difference(set(current_state)))*(len(set(l)) == len(l))"
   ]
  },
  {
   "cell_type": "markdown",
   "metadata": {},
   "source": [
    "### Search Algorithm\n",
    "The algorithm finds the solution by sorting the list of possible states by checking which state has the most amount of unique elements compared to the current state. "
   ]
  },
  {
   "cell_type": "code",
   "execution_count": 332,
   "metadata": {},
   "outputs": [],
   "source": [
    "def search(N, seed=None):\n",
    "    \"\"\"Searches for the least amount of lists that together contains the numbers from 0 to N-1\"\"\"\n",
    "    state_space = problem(N, seed)\n",
    "    GOAL_STATE = set(range(N))\n",
    "    current_state = list()\n",
    "    visited_nodes = 0\n",
    "    weight = 0\n",
    "\n",
    "    state_space = sorted(state_space, key=lambda l: count_unique_elem(current_state, l))\n",
    "\n",
    "    while state_space and not goal_test(current_state, GOAL_STATE):\n",
    "        element = state_space.pop()\n",
    "        visited_nodes += 1\n",
    "        weight += len(element)\n",
    "\n",
    "        for num in element:\n",
    "            current_state.append(num)\n",
    "        \n",
    "        state_space = sorted(state_space, key=lambda l: count_unique_elem_opt(current_state, l))\n",
    "        #print(f'state_space: {state_space}')\n",
    "\n",
    "    if (goal_test(current_state, GOAL_STATE)):\n",
    "        logging.info(f'Solution found for N={N}: w={weight}: Visited nodes={visited_nodes}')\n",
    "    else:\n",
    "        logging.info(f'No solution found')\n",
    "\n",
    "logging.getLogger().setLevel(logging.INFO)  "
   ]
  },
  {
   "cell_type": "markdown",
   "metadata": {},
   "source": [
    "### Test of search function"
   ]
  },
  {
   "cell_type": "code",
   "execution_count": 333,
   "metadata": {},
   "outputs": [
    {
     "name": "stderr",
     "output_type": "stream",
     "text": [
      "INFO:root:Solution found for N=5: w=6: Visited nodes=3\n",
      "INFO:root:Solution found for N=10: w=13: Visited nodes=3\n",
      "INFO:root:Solution found for N=20: w=32: Visited nodes=4\n",
      "INFO:root:Solution found for N=100: w=189: Visited nodes=5\n",
      "INFO:root:Solution found for N=500: w=1375: Visited nodes=7\n",
      "INFO:root:Solution found for N=1000: w=3087: Visited nodes=8\n"
     ]
    }
   ],
   "source": [
    "seed = 42\n",
    "for N in [5, 10, 20, 100, 500, 1000]:           \n",
    "    search(N, seed)"
   ]
  },
  {
   "cell_type": "code",
   "execution_count": 334,
   "metadata": {},
   "outputs": [
    {
     "name": "stdout",
     "output_type": "stream",
     "text": [
      "[[0], [1], [0], [4], [0], [1], [4], [4], [4], [1, 3], [0, 1], [2], [1], [0], [0, 2], [2, 4], [3], [3], [4], [2, 4], [0], [1], [0, 1], [3], [2, 3]]\n"
     ]
    },
    {
     "data": {
      "text/plain": [
       "[[1, 3],\n",
       " [0, 1],\n",
       " [0, 2],\n",
       " [2, 4],\n",
       " [2, 4],\n",
       " [0, 1],\n",
       " [2, 3],\n",
       " [0],\n",
       " [1],\n",
       " [0],\n",
       " [4],\n",
       " [0],\n",
       " [1],\n",
       " [4],\n",
       " [4],\n",
       " [4],\n",
       " [2],\n",
       " [1],\n",
       " [0],\n",
       " [3],\n",
       " [3],\n",
       " [4],\n",
       " [0],\n",
       " [1],\n",
       " [3]]"
      ]
     },
     "execution_count": 334,
     "metadata": {},
     "output_type": "execute_result"
    }
   ],
   "source": [
    "def find_next_list(current_state, l):\n",
    "    return len(set(l).difference(set(current_state)))\n",
    "\n",
    "state_space = problem(5,42)\n",
    "print(state_space)\n",
    "\n",
    "curr = []\n",
    "#print(len(set(curr)))\n",
    "state_space = sorted(state_space, key=lambda l: find_next_list(curr, l), reverse=True)\n",
    "state_space\n"
   ]
  }
 ],
 "metadata": {
  "kernelspec": {
   "display_name": "Python 3.9.13 64-bit (microsoft store)",
   "language": "python",
   "name": "python3"
  },
  "language_info": {
   "codemirror_mode": {
    "name": "ipython",
    "version": 3
   },
   "file_extension": ".py",
   "mimetype": "text/x-python",
   "name": "python",
   "nbconvert_exporter": "python",
   "pygments_lexer": "ipython3",
   "version": "3.9.13"
  },
  "orig_nbformat": 4,
  "vscode": {
   "interpreter": {
    "hash": "8f2b8f7d7da3b55c8640ff0ad5b752ba61ffdffe564a4378c820bcd9964834b8"
   }
  }
 },
 "nbformat": 4,
 "nbformat_minor": 2
}
