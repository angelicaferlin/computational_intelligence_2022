{
 "cells": [
  {
   "cell_type": "markdown",
   "metadata": {},
   "source": [
    "# Lab 1 \n",
    "Angelica Ferlin, 2022 <br />\n",
    "<br />\n",
    "[Link to instructions](https://github.com/squillero/computational-intelligence/blob/master/2022-23/lab1_set-covering.ipynb)\n"
   ]
  },
  {
   "cell_type": "code",
   "execution_count": 274,
   "metadata": {},
   "outputs": [],
   "source": [
    "import random\n",
    "import logging"
   ]
  },
  {
   "cell_type": "markdown",
   "metadata": {},
   "source": [
    "## The problem\n",
    "The function that creates the problem, provided by professor Giovanni Squillero."
   ]
  },
  {
   "cell_type": "code",
   "execution_count": 275,
   "metadata": {},
   "outputs": [],
   "source": [
    "def problem(N, seed=None):\n",
    "    \"\"\"Creates a list of lists that contains a random amount of numbers between 0 and N-1.\"\"\"\n",
    "    random.seed(seed)\n",
    "    return [\n",
    "        list(set(random.randint(0, N - 1) for n in range(random.randint(N // 5, N // 2))))\n",
    "        for n in range(random.randint(N, N * 5))\n",
    "    ]"
   ]
  },
  {
   "cell_type": "markdown",
   "metadata": {},
   "source": [
    "### Functions that help the search function with specific tasks"
   ]
  },
  {
   "cell_type": "code",
   "execution_count": 276,
   "metadata": {},
   "outputs": [],
   "source": [
    "def goal_test(current_state, goal_state):\n",
    "    \"\"\"Checks if the current state is the same as the goal state.\"\"\"\n",
    "    return all(elem in current_state for elem in goal_state)\n",
    "\n",
    "def count_unique_elem(current_state, l):\n",
    "    \"\"\"Returns the number of unique elements between the lists.\"\"\"\n",
    "    return len(set(l).difference(set(current_state)))\n",
    "\n",
    "def count_unique_elem_opt(current_state, l):\n",
    "    \"\"\"Returns the number of unique elements between the lists also regarding duplicates of numbers.\"\"\"\n",
    "    return (len(set(l).difference(set(current_state)))*(len(set(l)) == len(l)))"
   ]
  },
  {
   "cell_type": "markdown",
   "metadata": {},
   "source": [
    "### Search Algorithm\n",
    "The algorithm finds the solution by sorting the list of possible states by checking which state has the most amount of unique elements compared to the current state. "
   ]
  },
  {
   "cell_type": "code",
   "execution_count": 277,
   "metadata": {},
   "outputs": [],
   "source": [
    "def search(N, seed=None):\n",
    "    \"\"\"Searches for the least amount of lists that together contains the numbers from 0 to N-1.\"\"\"\n",
    "    state_space = problem(N, seed)\n",
    "    GOAL_STATE = set(range(N))\n",
    "    current_state = list()\n",
    "    visited_nodes = 0\n",
    "    weight = 0\n",
    "    state_space = sorted(state_space, key=lambda l: count_unique_elem(current_state, l))\n",
    "\n",
    "    while state_space and not goal_test(current_state, GOAL_STATE):\n",
    "        element = state_space.pop()\n",
    "        visited_nodes += 1\n",
    "        weight += len(element)\n",
    "\n",
    "        for num in element:\n",
    "            current_state.append(num)\n",
    "        \n",
    "        state_space = sorted(state_space, key=lambda l: count_unique_elem_opt(current_state, l))\n",
    "\n",
    "    if (goal_test(current_state, GOAL_STATE)):\n",
    "        logging.info(f' Solution found for N={N}: w={weight}: visited nodes={visited_nodes}: (bloat={(weight-N)/N*100:.0f}%)') \n",
    "    else:\n",
    "        logging.info(f' No solution found')\n",
    "\n",
    "logging.getLogger().setLevel(logging.INFO)  "
   ]
  },
  {
   "cell_type": "markdown",
   "metadata": {},
   "source": [
    "### Running Search Algorithm"
   ]
  },
  {
   "cell_type": "code",
   "execution_count": 278,
   "metadata": {},
   "outputs": [
    {
     "name": "stderr",
     "output_type": "stream",
     "text": [
      "INFO:root: Solution found for N=5: w=6: visited nodes=3: (bloat=20%)\n",
      "INFO:root: Solution found for N=10: w=13: visited nodes=3: (bloat=30%)\n",
      "INFO:root: Solution found for N=20: w=32: visited nodes=4: (bloat=60%)\n",
      "INFO:root: Solution found for N=100: w=189: visited nodes=5: (bloat=89%)\n",
      "INFO:root: Solution found for N=500: w=1375: visited nodes=7: (bloat=175%)\n",
      "INFO:root: Solution found for N=1000: w=3087: visited nodes=8: (bloat=209%)\n"
     ]
    }
   ],
   "source": [
    "seed = 42\n",
    "for N in [5, 10, 20, 100, 500, 1000]:           \n",
    "    search(N, seed)"
   ]
  },
  {
   "cell_type": "code",
   "execution_count": 279,
   "metadata": {},
   "outputs": [
    {
     "name": "stderr",
     "output_type": "stream",
     "text": [
      "INFO:root: Solution found for N=1000: w=3042: visited nodes=8: (bloat=204%)\n",
      "INFO:root: Solution found for N=1000: w=3086: visited nodes=8: (bloat=209%)\n",
      "INFO:root: Solution found for N=1000: w=3055: visited nodes=8: (bloat=206%)\n",
      "INFO:root: Solution found for N=1000: w=3082: visited nodes=8: (bloat=208%)\n",
      "INFO:root: Solution found for N=1000: w=3114: visited nodes=8: (bloat=211%)\n",
      "INFO:root: Solution found for N=1000: w=3127: visited nodes=8: (bloat=213%)\n",
      "INFO:root: Solution found for N=1000: w=2986: visited nodes=8: (bloat=199%)\n",
      "INFO:root: Solution found for N=1000: w=3405: visited nodes=9: (bloat=240%)\n"
     ]
    },
    {
     "name": "stdout",
     "output_type": "stream",
     "text": [
      "2.08 s ± 450 ms per loop (mean ± std. dev. of 7 runs, 1 loop each)\n"
     ]
    }
   ],
   "source": [
    "%timeit search(1_000)"
   ]
  }
 ],
 "metadata": {
  "kernelspec": {
   "display_name": "Python 3.9.13 64-bit (microsoft store)",
   "language": "python",
   "name": "python3"
  },
  "language_info": {
   "codemirror_mode": {
    "name": "ipython",
    "version": 3
   },
   "file_extension": ".py",
   "mimetype": "text/x-python",
   "name": "python",
   "nbconvert_exporter": "python",
   "pygments_lexer": "ipython3",
   "version": "3.9.13"
  },
  "orig_nbformat": 4,
  "vscode": {
   "interpreter": {
    "hash": "8f2b8f7d7da3b55c8640ff0ad5b752ba61ffdffe564a4378c820bcd9964834b8"
   }
  }
 },
 "nbformat": 4,
 "nbformat_minor": 2
}
