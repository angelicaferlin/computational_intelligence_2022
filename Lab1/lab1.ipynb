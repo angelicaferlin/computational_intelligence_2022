{
 "cells": [
  {
   "cell_type": "code",
   "execution_count": 277,
   "metadata": {},
   "outputs": [],
   "source": [
    "import random\n",
    "import logging"
   ]
  },
  {
   "cell_type": "code",
   "execution_count": 278,
   "metadata": {},
   "outputs": [],
   "source": [
    "def problem(N, seed=None):\n",
    "    random.seed(seed)\n",
    "    return [\n",
    "        list(set(random.randint(0, N - 1) for n in range(random.randint(N // 5, N // 2))))\n",
    "        for n in range(random.randint(N, N * 5))\n",
    "    ]"
   ]
  },
  {
   "cell_type": "markdown",
   "metadata": {},
   "source": [
    "### First solution\n",
    "*Test*\n"
   ]
  },
  {
   "cell_type": "code",
   "execution_count": 279,
   "metadata": {},
   "outputs": [
    {
     "name": "stderr",
     "output_type": "stream",
     "text": [
      "INFO:root:Solution found for N=1000: w=3087\n"
     ]
    }
   ],
   "source": [
    "N = 1000\n",
    "seed = 42\n",
    "STATE_SPACE = problem(N, seed)\n",
    "GOAL_STATE = list(range(N))\n",
    "\n",
    "def goal_test(current_state):\n",
    "    \"\"\"Checks if the current state is the same as the goal state\"\"\"\n",
    "    return all(elem in current_state for elem in GOAL_STATE)\n",
    "\n",
    "def count_unique_elem(current_state, l):\n",
    "    \"\"\"Returns the number of different elements between the lists\"\"\"\n",
    "    return len(set(l).difference(set(current_state)))\n",
    "\n",
    "def find_next_list_optimized(current_state, l):\n",
    "    \"\"\"Returns the number of different elements between the lists\"\"\"\n",
    "    return len(set(l).difference(set(current_state)))\n",
    "\n",
    "def search(state_space:list):\n",
    "    current_state = []\n",
    "    visited_nodes = 0\n",
    "    STATE_SPACE = state_space\n",
    "    weight = 0\n",
    "\n",
    "    STATE_SPACE = sorted(STATE_SPACE, key=lambda l: count_unique_elem(current_state, l))\n",
    "\n",
    "    while STATE_SPACE and not goal_test(current_state):\n",
    "        visited_nodes += 1\n",
    "        element = STATE_SPACE.pop()\n",
    "        #print(f'element: {element}')\n",
    "        weight += len(element)\n",
    "        for num in element:\n",
    "            current_state.append(num)\n",
    "        \n",
    "        STATE_SPACE = sorted(STATE_SPACE, key=lambda l: count_unique_elem(current_state, l))\n",
    "        #print(f'state_space: {STATE_SPACE}')\n",
    "\n",
    "    if (goal_test(current_state)):\n",
    "        logging.info(f'Solution found for N={N}: w={weight}')\n",
    "    else:\n",
    "        logging.info(f'No solution found')\n",
    "    return current_state\n",
    "\n",
    "logging.getLogger().setLevel(logging.INFO)              \n",
    "final_list = search(STATE_SPACE)\n"
   ]
  },
  {
   "cell_type": "code",
   "execution_count": 280,
   "metadata": {},
   "outputs": [
    {
     "name": "stdout",
     "output_type": "stream",
     "text": [
      "[[0, 4], [1, 2, 3], [9, 6], [0, 1], [8, 9, 3], [8, 3], [0, 3, 4, 7, 9], [4, 5, 6], [1, 3, 5], [1, 6], [0, 9, 4, 5], [8, 1, 6], [9, 3, 5], [0, 3], [1, 3, 6], [2, 5, 7], [1, 3, 4, 9], [8, 2, 3], [3, 4, 5, 6, 8], [0, 3], [1, 3, 4, 6], [3, 6, 7], [2, 3, 4], [9, 6], [8, 2, 3, 7], [0, 1], [9, 2, 6], [6], [8, 0, 4, 1], [1, 4, 5, 6], [0, 4, 7], [8, 1, 4], [2, 5], [9, 5], [0, 1, 3, 4, 5], [9, 3], [1, 7], [8, 2], [8, 2, 7], [8, 9, 3, 6], [4, 5, 6], [8, 1, 3, 7], [0, 5], [0, 9, 3], [0, 3], [0, 5], [8, 3], [8, 2, 3, 7], [1, 3, 6, 7], [5, 6]]\n",
      "3\n"
     ]
    },
    {
     "data": {
      "text/plain": [
       "[[8, 1, 6],\n",
       " [2, 5, 7],\n",
       " [3, 4, 5, 6, 8],\n",
       " [8, 2, 3, 7],\n",
       " [9, 2, 6],\n",
       " [1, 4, 5, 6],\n",
       " [8, 2, 7],\n",
       " [8, 9, 3, 6],\n",
       " [8, 1, 3, 7],\n",
       " [8, 2, 3, 7],\n",
       " [1, 3, 6, 7],\n",
       " [1, 2, 3],\n",
       " [9, 6],\n",
       " [8, 9, 3],\n",
       " [0, 3, 4, 7, 9],\n",
       " [4, 5, 6],\n",
       " [1, 3, 5],\n",
       " [1, 6],\n",
       " [0, 9, 4, 5],\n",
       " [9, 3, 5],\n",
       " [1, 3, 6],\n",
       " [1, 3, 4, 9],\n",
       " [8, 2, 3],\n",
       " [1, 3, 4, 6],\n",
       " [3, 6, 7],\n",
       " [9, 6],\n",
       " [8, 0, 4, 1],\n",
       " [8, 1, 4],\n",
       " [2, 5],\n",
       " [9, 5],\n",
       " [0, 1, 3, 4, 5],\n",
       " [1, 7],\n",
       " [8, 2],\n",
       " [4, 5, 6],\n",
       " [5, 6],\n",
       " [0, 1],\n",
       " [8, 3],\n",
       " [2, 3, 4],\n",
       " [0, 1],\n",
       " [6],\n",
       " [0, 4, 7],\n",
       " [9, 3],\n",
       " [0, 5],\n",
       " [0, 9, 3],\n",
       " [0, 5],\n",
       " [8, 3],\n",
       " [0, 4],\n",
       " [0, 3],\n",
       " [0, 3],\n",
       " [0, 3]]"
      ]
     },
     "execution_count": 280,
     "metadata": {},
     "output_type": "execute_result"
    }
   ],
   "source": [
    "def find_next_list(current_state, l):\n",
    "    return len(set(l).difference(set(current_state)))\n",
    "\n",
    "state_space = problem(10,42)\n",
    "print(state_space)\n",
    "\n",
    "curr = [0,3,4]\n",
    "print(len(set(curr)))\n",
    "state_space = sorted(state_space, key=lambda l: find_next_list(curr, l), reverse=True)\n",
    "state_space\n"
   ]
  }
 ],
 "metadata": {
  "kernelspec": {
   "display_name": "Python 3.9.13 64-bit (microsoft store)",
   "language": "python",
   "name": "python3"
  },
  "language_info": {
   "codemirror_mode": {
    "name": "ipython",
    "version": 3
   },
   "file_extension": ".py",
   "mimetype": "text/x-python",
   "name": "python",
   "nbconvert_exporter": "python",
   "pygments_lexer": "ipython3",
   "version": "3.9.13"
  },
  "orig_nbformat": 4,
  "vscode": {
   "interpreter": {
    "hash": "8f2b8f7d7da3b55c8640ff0ad5b752ba61ffdffe564a4378c820bcd9964834b8"
   }
  }
 },
 "nbformat": 4,
 "nbformat_minor": 2
}
