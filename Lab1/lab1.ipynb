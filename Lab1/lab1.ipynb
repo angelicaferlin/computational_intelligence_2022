{
 "cells": [
  {
   "cell_type": "code",
   "execution_count": 139,
   "metadata": {},
   "outputs": [],
   "source": [
    "import random\n",
    "from gx_utils import *\n",
    "import numpy as np"
   ]
  },
  {
   "cell_type": "code",
   "execution_count": 140,
   "metadata": {},
   "outputs": [],
   "source": [
    "def problem(N, seed=None):\n",
    "    random.seed(seed)\n",
    "    return [\n",
    "        list(set(random.randint(0, N - 1) for n in range(random.randint(N // 5, N // 2))))\n",
    "        for n in range(random.randint(N, N * 5))\n",
    "    ]"
   ]
  },
  {
   "cell_type": "markdown",
   "metadata": {},
   "source": [
    "### First solution\n",
    "*Test*\n"
   ]
  },
  {
   "cell_type": "code",
   "execution_count": 141,
   "metadata": {},
   "outputs": [
    {
     "name": "stdout",
     "output_type": "stream",
     "text": [
      " weight 333\n",
      "visited 11\n"
     ]
    }
   ],
   "source": [
    "N = 100\n",
    "seed = 42\n",
    "STATE_SPACE = problem(N, seed)\n",
    "GOAL_STATE = list(range(N))\n",
    "\n",
    "\n",
    "def goal_test(CURRENT):\n",
    "    return all(elem in CURRENT for elem in GOAL_STATE)\n",
    "\n",
    "def search(STATE_SPACE:list):\n",
    "    CURRENT = []\n",
    "    visited_nodes = 0\n",
    "    \n",
    "    for element in STATE_SPACE:\n",
    "        if STATE_SPACE and not goal_test(CURRENT):\n",
    "            visited_nodes += 1\n",
    "            element = STATE_SPACE.pop()\n",
    "            for num in element:\n",
    "                CURRENT.append(num)\n",
    "\n",
    "    weight = len(CURRENT)\n",
    "    return CURRENT, visited_nodes, weight\n",
    "                \n",
    "final_list, visited, w = search(STATE_SPACE)\n",
    "\n",
    "print(f' weight {w}')\n",
    "print(f'visited {visited}')\n",
    "\n"
   ]
  }
 ],
 "metadata": {
  "kernelspec": {
   "display_name": "Python 3.9.13 64-bit (microsoft store)",
   "language": "python",
   "name": "python3"
  },
  "language_info": {
   "codemirror_mode": {
    "name": "ipython",
    "version": 3
   },
   "file_extension": ".py",
   "mimetype": "text/x-python",
   "name": "python",
   "nbconvert_exporter": "python",
   "pygments_lexer": "ipython3",
   "version": "3.9.13"
  },
  "orig_nbformat": 4,
  "vscode": {
   "interpreter": {
    "hash": "8f2b8f7d7da3b55c8640ff0ad5b752ba61ffdffe564a4378c820bcd9964834b8"
   }
  }
 },
 "nbformat": 4,
 "nbformat_minor": 2
}
