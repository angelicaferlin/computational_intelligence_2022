{
 "cells": [
  {
   "cell_type": "code",
   "execution_count": 822,
   "metadata": {},
   "outputs": [],
   "source": [
    "import random\n",
    "import logging\n",
    "from collections import namedtuple\n",
    "from operator import attrgetter"
   ]
  },
  {
   "cell_type": "code",
   "execution_count": 823,
   "metadata": {},
   "outputs": [],
   "source": [
    "def problem(N, seed=None):\n",
    "    \"\"\"Creates a list of lists that contains a random amount of numbers between 0 and N-1.\"\"\"\n",
    "    random.seed(seed)\n",
    "    return [\n",
    "        list(set(random.randint(0, N - 1) for n in range(random.randint(N // 5, N // 2))))\n",
    "        for n in range(random.randint(N, N * 5))\n",
    "    ]"
   ]
  },
  {
   "cell_type": "code",
   "execution_count": 837,
   "metadata": {},
   "outputs": [],
   "source": [
    "Individual = namedtuple(\"Individual\", [\"genome\", \"fitness\"])\n",
    "\n",
    "#Global varibles\n",
    "POPULATION_SIZE = 30\n",
    "GENERATIONS = 500\n",
    "N = 30"
   ]
  },
  {
   "cell_type": "code",
   "execution_count": 825,
   "metadata": {},
   "outputs": [],
   "source": [
    "def unique(solution):\n",
    "    \"\"\"Count the number of unique values in the solution \"\"\"\n",
    "    unique = set([item for sublist in solution for item in sublist])\n",
    "    return len(unique)"
   ]
  },
  {
   "cell_type": "code",
   "execution_count": 826,
   "metadata": {},
   "outputs": [],
   "source": [
    "def fitness(genome): \n",
    "    \"\"\"Optimal fitness=0. A penalty is given for the number of duplicated elements and also for the number of values not covered by the solution\"\"\"\n",
    "    fitness = 0\n",
    "    \n",
    "    #count the number of elements in the genome\n",
    "    size = len([item for sublist in genome for item in sublist])\n",
    "    \n",
    "    unique_values = unique(genome)\n",
    "    \n",
    "    #the fitness relates to the total number of element in the genome devided by unique elements\n",
    "    fitness = N*(size/unique_values)\n",
    "\n",
    "    #number of values not covered by the genome\n",
    "    values_left = N - unique_values\n",
    "   \n",
    "    if (values_left > 0):\n",
    "        fitness = fitness + values_left*N\n",
    "\n",
    "    return fitness\n"
   ]
  },
  {
   "cell_type": "code",
   "execution_count": 827,
   "metadata": {},
   "outputs": [],
   "source": [
    "def mutation(individual, P):\n",
    "    \"\"\"Change one gene (list) inside the solution by randomly selecting one and swapping it for a new one from the original problem\"\"\"\n",
    "    index = random.randrange(len(individual.genome))\n",
    "    old_gene = individual.genome.pop(index)\n",
    "\n",
    "    P_index = random.randrange(len(P))\n",
    "    new_gene = P[P_index]\n",
    "    \n",
    "    new_genome = individual.genome + [new_gene]\n",
    "    new_fitness = fitness(new_genome)\n",
    "    \n",
    "    return Individual(new_genome, new_fitness)\n"
   ]
  },
  {
   "cell_type": "code",
   "execution_count": 828,
   "metadata": {},
   "outputs": [],
   "source": [
    "\"\"\"Create two new childern from two parents by slicing them at a random place(interval)\"\"\"\n",
    "def crossover(first_individual, second_individual):\n",
    "    minimum_size = min(len(first_individual.genome), len(second_individual.genome))\n",
    "\n",
    "    interval = random.randrange(minimum_size)\n",
    "\n",
    "\n",
    "    first_child_genome = second_individual.genome[:interval] + first_individual.genome[interval:]\n",
    "    second_child_genome = first_individual.genome[:interval] + second_individual.genome[interval:]\n",
    "\n",
    "    first_child = Individual(first_child_genome, fitness(first_child_genome))\n",
    "    second_child = Individual(second_child_genome, fitness(second_child_genome))\n",
    "\n",
    "    return first_child, second_child\n",
    "    \n"
   ]
  },
  {
   "cell_type": "code",
   "execution_count": 829,
   "metadata": {},
   "outputs": [],
   "source": [
    "def select_parent(population, TOURNAMENT_SIZE=5):\n",
    "    #Tournament pool\n",
    "    tournament = []\n",
    "\n",
    "    while len(tournament) != TOURNAMENT_SIZE: \n",
    "        random_id = random.randrange(len(population))\n",
    "        choosen_individual = population[random_id]\n",
    "        \n",
    "        tournament.append(choosen_individual)\n",
    "\n",
    "    tournament.sort(key=attrgetter('fitness'))\n",
    "    \n",
    "    return tournament[0]"
   ]
  },
  {
   "cell_type": "code",
   "execution_count": 830,
   "metadata": {},
   "outputs": [],
   "source": [
    "def generate_individual(P):\n",
    "    individual_size = random.randrange(1, len(P))\n",
    "    individual = random.sample(P, individual_size)\n",
    "\n",
    "    return individual"
   ]
  },
  {
   "cell_type": "code",
   "execution_count": 831,
   "metadata": {},
   "outputs": [],
   "source": [
    "def generate_population(P, POPULATION_SIZE):\n",
    "    population = []\n",
    "\n",
    "    for i in range(POPULATION_SIZE):\n",
    "\n",
    "        new_individual = generate_individual(P)\n",
    "\n",
    "        if new_individual not in population: \n",
    "            population.append(Individual(new_individual, fitness(new_individual)))\n",
    "\n",
    "    return population\n",
    "\n"
   ]
  },
  {
   "cell_type": "code",
   "execution_count": 832,
   "metadata": {},
   "outputs": [],
   "source": [
    "def create_new_population(population, offspring):\n",
    "    \"\"\"Creates a new population that consist of the 15 best parents and the 15 best offspring in regards to thier fitness\"\"\"\n",
    "    new_population = []\n",
    "\n",
    "    #Sorts the list from fitesst to least fit\n",
    "    population.sort(key=attrgetter('fitness'))\n",
    "    offspring.sort(key=attrgetter('fitness'))\n",
    "    \n",
    "    best_fitness = min(population[0].fitness, offspring[0].fitness)\n",
    "    \n",
    "    new_population = population[:int(POPULATION_SIZE/2)] + offspring[:int(POPULATION_SIZE/2)]\n",
    "    \n",
    "    return new_population, best_fitness\n",
    "    "
   ]
  },
  {
   "cell_type": "code",
   "execution_count": 833,
   "metadata": {},
   "outputs": [],
   "source": [
    "def create_offspring(population, P):\n",
    "    \"\"\"Generates offspring the same size as the population. Each offspring is created by crossover and some will be mutated as well\"\"\"\n",
    "    offspring = []\n",
    "\n",
    "    for i in range(int(POPULATION_SIZE/2)):\n",
    "        tournament_parent = select_parent(population)\n",
    "        \n",
    "        random_id = random.randrange(POPULATION_SIZE)\n",
    "        random_parent = population[random_id]\n",
    "\n",
    "        first_child, second_child = crossover(tournament_parent, random_parent)\n",
    "\n",
    "        if random.random() < 0.3:\n",
    "            first_child = mutation(first_child, P)\n",
    "\n",
    "        if random.random() < 0.3:\n",
    "            second_child = mutation(second_child, P)\n",
    "\n",
    "        offspring.append(first_child)\n",
    "        offspring.append(second_child)\n",
    "\n",
    "    return offspring"
   ]
  },
  {
   "cell_type": "code",
   "execution_count": 834,
   "metadata": {},
   "outputs": [],
   "source": [
    "def escape_local_optima(population, P):\n",
    "    \"\"\"Creates a new population by mutating all individuals in the population\"\"\"\n",
    "    new_population = []\n",
    "\n",
    "    for i in range(len(population)):\n",
    "        \n",
    "        new_individual = mutation(population[i], P)\n",
    "        new_population.append(new_individual)\n",
    "\n",
    "    return new_population"
   ]
  },
  {
   "cell_type": "code",
   "execution_count": 835,
   "metadata": {},
   "outputs": [],
   "source": [
    "def genetic_algorithm(P, N, generations):\n",
    "    \"\"\"Use stady state to generate the best solution.\"\"\"\n",
    "    #create inital population\n",
    "    population = generate_population(P,POPULATION_SIZE)\n",
    "\n",
    "    \n",
    "    population.sort(key=attrgetter('fitness'))\n",
    "    \n",
    "    #Save the best fintess found so far\n",
    "    current_best_fitness = population[0].fitness\n",
    "    \n",
    "    #Used to keep track of local optima\n",
    "    counter = 0\n",
    "\n",
    "    while generations > 0:\n",
    "        offspring = create_offspring(population, P)\n",
    "        population, new_best_fitness = create_new_population(population, offspring)\n",
    "        \n",
    "        #If the solution has not improved -> potential local optima\n",
    "        if (new_best_fitness == current_best_fitness):\n",
    "            counter += 1\n",
    "        else:\n",
    "            counter = 0\n",
    "            current_best_fitnes = new_best_fitness\n",
    "\n",
    "        #If stuck in a local optima\n",
    "        if (counter == 5):\n",
    "            population = escape_local_optima(population, P)\n",
    "        \n",
    "        generations -= 1\n",
    "    \n",
    "    population.sort(key=attrgetter('fitness'))\n",
    "    \n",
    "    return population[0] \n",
    "\n",
    "    "
   ]
  },
  {
   "cell_type": "code",
   "execution_count": 838,
   "metadata": {},
   "outputs": [
    {
     "name": "stdout",
     "output_type": "stream",
     "text": [
      "LEN: 50\n",
      "LAST: Individual(genome=[[0, 6, 7, 24, 26], [1, 2, 5, 15, 16, 19, 21, 27, 29], [2, 12, 13, 19, 21, 25], [6, 10, 18, 22, 28, 29], [17, 20, 6, 22], [17, 20, 6, 22], [6, 7, 11, 21, 28], [3, 4, 8, 23, 28], [0, 9, 14, 15, 18, 27]], fitness=50.0)\n"
     ]
    }
   ],
   "source": [
    "P = problem(N, 42)\n",
    "final_solution = genetic_algorithm(P, N, GENERATIONS)\n",
    "\n",
    "print(f'LEN: {sum([len(l) for l in final_solution.genome])}')\n",
    "print(f'LAST: {final_solution}')\n",
    "\n"
   ]
  }
 ],
 "metadata": {
  "kernelspec": {
   "display_name": "Python 3.9.13 64-bit (microsoft store)",
   "language": "python",
   "name": "python3"
  },
  "language_info": {
   "codemirror_mode": {
    "name": "ipython",
    "version": 3
   },
   "file_extension": ".py",
   "mimetype": "text/x-python",
   "name": "python",
   "nbconvert_exporter": "python",
   "pygments_lexer": "ipython3",
   "version": "3.9.13"
  },
  "orig_nbformat": 4,
  "vscode": {
   "interpreter": {
    "hash": "8f2b8f7d7da3b55c8640ff0ad5b752ba61ffdffe564a4378c820bcd9964834b8"
   }
  }
 },
 "nbformat": 4,
 "nbformat_minor": 2
}
