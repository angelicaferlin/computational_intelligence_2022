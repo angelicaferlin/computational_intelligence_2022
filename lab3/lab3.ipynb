{
 "cells": [
  {
   "cell_type": "markdown",
   "metadata": {},
   "source": [
    "# Lab 3\n"
   ]
  },
  {
   "cell_type": "code",
   "execution_count": 1,
   "metadata": {},
   "outputs": [],
   "source": [
    "import logging\n",
    "from collections import namedtuple\n",
    "import random\n",
    "from typing import Callable\n",
    "from copy import deepcopy\n",
    "from itertools import accumulate\n",
    "from operator import xor\n",
    "import numpy as np"
   ]
  },
  {
   "cell_type": "markdown",
   "metadata": {},
   "source": [
    "# The Nim and Nimply classes"
   ]
  },
  {
   "cell_type": "code",
   "execution_count": 2,
   "metadata": {},
   "outputs": [],
   "source": [
    "Nimply = namedtuple(\"Nimply\", \"row, num_objects\") # move"
   ]
  },
  {
   "cell_type": "code",
   "execution_count": 3,
   "metadata": {},
   "outputs": [],
   "source": [
    "class Nim:\n",
    "    def __init__(self, num_rows: int, k: int = None) -> None:\n",
    "        self._rows = [i * 2 + 1 for i in range(num_rows)]\n",
    "        self._k = k\n",
    "\n",
    "    def __bool__(self):\n",
    "        return sum(self._rows) > 0\n",
    "\n",
    "    def __str__(self):\n",
    "        return \"<\" + \" \".join(str(_) for _ in self._rows) + \">\"\n",
    "\n",
    "    @property\n",
    "    def rows(self) -> tuple:\n",
    "        return tuple(self._rows)\n",
    "\n",
    "    @property\n",
    "    def k(self) -> int:\n",
    "        return self._k\n",
    "\n",
    "    def nimming(self, ply: Nimply) -> None:\n",
    "        row, num_objects = ply\n",
    "        assert self._rows[row] >= num_objects\n",
    "        assert self._k is None or num_objects <= self._k\n",
    "        self._rows[row] -= num_objects"
   ]
  },
  {
   "cell_type": "markdown",
   "metadata": {},
   "source": [
    "# Rule based agent using Nim-Sum\n"
   ]
  },
  {
   "cell_type": "code",
   "execution_count": 4,
   "metadata": {},
   "outputs": [],
   "source": [
    "def nim_sum_l(nim):\n",
    "  X = nim._rows[0]\n",
    "  # X is the nim_sum(bitwise xor) of all heap sizes\n",
    "  for i in range(1, len(nim._rows)):\n",
    "    X = X ^ nim._rows[i]\n",
    "\n",
    "  nim_sum_val = []\n",
    "  # calculate the nim_sum between X and each heap size\n",
    "  for i in nim._rows:\n",
    "    val = i ^ X\n",
    "    nim_sum_val.append(val)\n",
    "\n",
    "  row = \"false\"\n",
    " \n",
    "  for i in range(len(nim_sum_val)):\n",
    "    if nim_sum_val[i] < nim._rows[i]:\n",
    "      row = i\n",
    "      break\n",
    "  \n",
    "  # reduce that heap to value nim_sum\n",
    "  if (row != \"false\"):\n",
    "    num_objects = nim._rows[row] - nim_sum_val[row]\n",
    "    move = Nimply(row, num_objects)\n",
    "  \n",
    "  else:\n",
    "    rand_row = random.randrange(0,len(nim._rows))\n",
    "\n",
    "    while(nim._rows[rand_row] == 0):\n",
    "      rand_row = random.randrange(0,len(nim._rows))\n",
    "\n",
    "    if(nim._rows[rand_row] != 1):\n",
    "      rand_obj = random.randrange(1, nim._rows[rand_row])\n",
    "                                  \n",
    "    else: rand_obj = 1\n",
    "    move = Nimply(rand_row, rand_obj)\n",
    "  return move"
   ]
  },
  {
   "cell_type": "markdown",
   "metadata": {},
   "source": [
    "# Evolved Strategy\n",
    "\n",
    "## Parameters\n",
    "- How many rows that are still alive <br />\n",
    "- How many of the inital sticks are left <br />\n",
    "- <br />\n",
    "\n",
    "\n",
    "## Rule\n",
    "- Defence: If stick < 5% - take only 1 stick <br />\n",
    "-  <br />\n",
    "\n",
    "     0 the middle column\n",
    "     pick one from the longest\n",
    "     pick one from random rows\n",
    "     zero the smallest row\n",
    "     half the biggest row\n",
    "     take k sticks if possible otherwise take the max <br />\n",
    "\n",
    "     onerow-stategy: only one row - leave x\n",
    "     2 rows: 1 rad = 1 element. ta x element från den andra raden\n",
    "     2 rows: both has more than 1 element - take random\n",
    "     else: take random random. \n",
    "\n",
    "     genome: dict \n",
    "     individ = {rule1: x, rule2:y, rule3:z, rule4:n}"
   ]
  },
  {
   "cell_type": "code",
   "execution_count": 5,
   "metadata": {},
   "outputs": [],
   "source": [
    "MATCHES = 500\n",
    "\n",
    "\n",
    "def strategy():\n",
    "    if one_row:\n",
    "        return one_row_start()"
   ]
  },
  {
   "cell_type": "code",
   "execution_count": 6,
   "metadata": {},
   "outputs": [],
   "source": [
    "#Remove x element from the only row left\n",
    "# 0 < x <= k\n",
    "def one_row_strategy(state: Nim, individual) -> Nimply:\n",
    "    row_counter = -1\n",
    "    for row in state.rows: \n",
    "        row_counter += 1\n",
    "        if row > 0:\n",
    "            return Nimply(row_counter , min(row, individual[0]))\n"
   ]
  },
  {
   "cell_type": "code",
   "execution_count": 7,
   "metadata": {},
   "outputs": [],
   "source": [
    "def two_rows_strategy1(nim, individual):\n",
    "    return None"
   ]
  },
  {
   "cell_type": "code",
   "execution_count": 8,
   "metadata": {},
   "outputs": [],
   "source": [
    "def count_rows_alive(nim):\n",
    "    rows_alive = 0\n",
    "    for i in nim._rows:\n",
    "        if nim._rows == 0:\n",
    "            count += 1\n",
    "    return rows_alive"
   ]
  },
  {
   "cell_type": "code",
   "execution_count": 9,
   "metadata": {},
   "outputs": [],
   "source": [
    "def zero_middle_column(nim):\n",
    "    #find the row with the amount of sticks that are in the middle\n",
    "    sorted_rows = sorted(nim._rows)\n",
    "\n",
    "    middle_row = int(len(sorted_rows)/2) #make sure it is an even number\n",
    "\n",
    "    obj = sorted_rows[middle_row]\n",
    "\n",
    "    for i in nim._rows:\n",
    "        if nim._rows[i] == obj:\n",
    "            final_row = i\n",
    "\n",
    "    move = Nimply(i, obj)\n",
    "    \n",
    "    return move\n"
   ]
  },
  {
   "cell_type": "markdown",
   "metadata": {},
   "source": [
    "# MinMax\n"
   ]
  },
  {
   "cell_type": "code",
   "execution_count": 10,
   "metadata": {},
   "outputs": [],
   "source": [
    "#player 0 - maximizing\n",
    "#player 1 - minimizing\n",
    "\n",
    "def min_max(nim):\n",
    "    if state == 0:\n",
    "        return None\n",
    "\n"
   ]
  },
  {
   "cell_type": "code",
   "execution_count": 11,
   "metadata": {},
   "outputs": [],
   "source": [
    "def all_possible_moves(nim):\n",
    "    possible_moves = []\n",
    "\n",
    "    for row in range(len(nim._rows)):\n",
    "        for j in range(nim._rows[row]):\n",
    "            copy_row = deepcopy(row)\n",
    "\n",
    "            new_move = copy_row[row] - j - 1\n",
    "            possible_moves.append(new_move)\n",
    "\n",
    "    return possible_moves\n",
    "            "
   ]
  },
  {
   "cell_type": "code",
   "execution_count": 12,
   "metadata": {},
   "outputs": [],
   "source": [
    "def evaluate(nim, player):\n",
    "    if not nim: # if game is finished\n",
    "        # player 0 loose if return -1\n",
    "        return -1 if player == 0 else 1\n"
   ]
  },
  {
   "cell_type": "markdown",
   "metadata": {},
   "source": [
    "# Sample strategies"
   ]
  },
  {
   "cell_type": "code",
   "execution_count": 13,
   "metadata": {},
   "outputs": [],
   "source": [
    "def pure_random(state: Nim) -> Nimply:\n",
    "    row = random.choice([r for r, c in enumerate(state.rows) if c > 0])\n",
    "    num_objects = random.randint(1, state.rows[row])\n",
    "    return Nimply(row, num_objects)"
   ]
  },
  {
   "cell_type": "code",
   "execution_count": 14,
   "metadata": {},
   "outputs": [],
   "source": [
    "def nim_sum(state: Nim) -> int:\n",
    "    *_, result = accumulate(state.rows, xor)\n",
    "    return result"
   ]
  },
  {
   "cell_type": "code",
   "execution_count": 15,
   "metadata": {},
   "outputs": [],
   "source": [
    "def active_rows_index(state: Nim) -> list:\n",
    "    active_rows_index = []\n",
    "    count = 0\n",
    "    for o in state.rows:\n",
    "        if o > 0:\n",
    "          active_rows_index.append(count)\n",
    "        count += 1\n",
    "    return active_rows_index"
   ]
  },
  {
   "cell_type": "code",
   "execution_count": 16,
   "metadata": {},
   "outputs": [],
   "source": [
    "def cook_status(state: Nim) -> dict:\n",
    "    cooked = dict()\n",
    "    cooked[\"possible_moves\"] = [\n",
    "        (r, o) for r, c in enumerate(state.rows) for o in range(1, c + 1) if state.k is None or o <= state.k\n",
    "    ]\n",
    "    cooked[\"active_rows_number\"] = sum(o > 0 for o in state.rows)\n",
    "    cooked[\"active_rows_index\"] = active_rows_index(state)\n",
    "    cooked[\"rows_with_one_element\"] = [(index, r) for index, r in enumerate(state.rows) if r == 1]\n",
    "    \n",
    "\n",
    "    cooked[\"shortest_row\"] = min((x for x in enumerate(state.rows) if x[1] > 0), key=lambda y: y[1])[0]\n",
    "    cooked[\"longest_row\"] = max((x for x in enumerate(state.rows)), key=lambda y: y[1])[0]\n",
    "    cooked[\"nim_sum\"] = nim_sum(state)\n",
    "    \n",
    "    #cooked[\"one_row_left\"] = one_row_strategy(state)\n",
    "    cooked[\"pure_random\"] = pure_random(state)\n",
    "\n",
    "    brute_force = list()\n",
    "    for m in cooked[\"possible_moves\"]:\n",
    "        tmp = deepcopy(state)\n",
    "        tmp.nimming(m)\n",
    "        brute_force.append((m, nim_sum(tmp)))\n",
    "    cooked[\"brute_force\"] = brute_force\n",
    "\n",
    "    return cooked"
   ]
  },
  {
   "cell_type": "code",
   "execution_count": 17,
   "metadata": {},
   "outputs": [
    {
     "name": "stdout",
     "output_type": "stream",
     "text": [
      "rows_with_one_elem [(2, 1)]\n",
      "rdfjh 3\n"
     ]
    }
   ],
   "source": [
    "state = Nim(3)\n",
    "\n",
    "ply = Nimply(2,4)\n",
    "state.nimming(ply)\n",
    "ply = Nimply(0,1)\n",
    "state.nimming(ply)\n",
    "\n",
    "data = cook_status(state)\n",
    "\n",
    "print(\"rows_with_one_elem\", data[\"rows_with_one_element\"])\n",
    "\n",
    "print(\"rdfjh\",state.rows[data[\"active_rows_index\"][0]])\n",
    "\n",
    "#one_match = [(index, r) for index, r in enumerate(state.rows) if r == 1]\n",
    "\n"
   ]
  },
  {
   "cell_type": "code",
   "execution_count": 18,
   "metadata": {},
   "outputs": [
    {
     "ename": "IndentationError",
     "evalue": "expected an indented block (3472125087.py, line 37)",
     "output_type": "error",
     "traceback": [
      "\u001b[1;36m  Cell \u001b[1;32mIn [18], line 37\u001b[1;36m\u001b[0m\n\u001b[1;33m    for row in active_rows_number:\u001b[0m\n\u001b[1;37m    ^\u001b[0m\n\u001b[1;31mIndentationError\u001b[0m\u001b[1;31m:\u001b[0m expected an indented block\n"
     ]
    }
   ],
   "source": [
    "def make_strategy(genome: dict) -> Callable:\n",
    "    def evolvable(state: Nim) -> Nimply:\n",
    "        data = cook_status(state)\n",
    "\n",
    "        active_rows_number = data[\"active_rows_number\"]\n",
    "        rows_with_one_elem = data[\"rows_with_one_elem\"]\n",
    "        active_rows_index = data[\"active_rows_index\"]\n",
    "\n",
    "        #only one active row left\n",
    "        if active_rows_number == 1: \n",
    "           \n",
    "            #Rule 1 - if only one row left: leave x sticks\n",
    "            last_row = state.rows[data[\"active_rows_index\"][0]]\n",
    "            if last_row > genome['Rule1']: #if the rule want to leave more sticks than exists in row\n",
    "                ply = Nimply(last_row, 1)\n",
    "            else:\n",
    "                #add if you want to take more than K - take k\n",
    "                #if (k <)\n",
    "                elem_to_remove = last_row - genome[\"Rule1\"] #total amout of elem in list - elem that will remain. 5 elem in list, want to have 3 left -> remove 5-3=2\n",
    "                ply = Nimply(last_row, elem_to_remove)\n",
    "        \n",
    "        elif active_rows_number == 2:\n",
    "            \n",
    "            #rule 2\n",
    "            #if both row has one elem, do rule2 either way\n",
    "            if rows_with_one_elem: \n",
    "                logging.debug(\"Starting rule 1\")\n",
    "                if genome[\"Rule2\"][0] == 0:  # take from row with one elem\n",
    "                    elem = 1 # want to take the last elem in row\n",
    "                    row = rows_with_one_elem[0][0] # looks like [(row,elem),(row,elem)] if two rows with single elem\n",
    "                    ply = Nimply(row, 1)\n",
    "\n",
    "                else: #take from the row with more than one element\n",
    "                    row = [i for i in active_rows_index if state.rows[i] != 1][0]\n",
    "                    if (genome['Rule2'][1] > row[1]): # if it wants to leave more elem than exists in row\n",
    "                        elem = 1\n",
    "                        ply = Nimply(row[0], 1)\n",
    "                        \n",
    "            for row in active_rows_number:\n",
    "                if row[1] == 1: # check if only one elem left in the row\n",
    "                    row_with_one_elem = row\n",
    "                    \n",
    "\n",
    "            if row_with_one_elem:\n",
    "                # Rule 2\n",
    "                #2 rows: 1 rad = 1 element. ta x element från den andra raden\n",
    "                # rule2 = [0=row with one elem | 1=row with more than one , number of elements to leave]\n",
    "                \n",
    "\n",
    "            else:\n",
    "                # Rule 3\n",
    "\n",
    "            \n",
    "            if genome[\"Rule2\"][0] == 1:\n",
    "\n",
    "            \n",
    "\n",
    "\n",
    "        else:\n",
    "            ply = Nimply(data[\"pure_random\"], random.randint(1, state.rows[data[\"pure_random\"]]))\n",
    "\n",
    "        return ply\n",
    "\n",
    "    return evolvable"
   ]
  },
  {
   "cell_type": "code",
   "execution_count": null,
   "metadata": {},
   "outputs": [],
   "source": [
    "#compute the fittness\n",
    "def head2head(individual1: dict, individual2: dict, nim_size) -> int:\n",
    "    won = 0\n",
    "    NUM_MATCHES = 1 \n",
    "    nim = Nim(nim_size)\n",
    "    players = (make_strategy(individual1), make_strategy(individual2))\n",
    "\n",
    "    while nim:\n",
    "        ply = players[player](nim)\n",
    "        nim.nimming(ply)\n",
    "        player = 1 - player\n",
    "    winner = 1 - player\n",
    "    if winner == 0:\n",
    "        individual1[\"fitness\"] +=1\n",
    "        #öka fitness på individ1 vid vinst\n",
    "    else: \n",
    "        individual2[\"fitness\"] +=1\n",
    "        #öka fitness på individ2 vid vinst\n",
    "   \n"
   ]
  },
  {
   "cell_type": "code",
   "execution_count": null,
   "metadata": {},
   "outputs": [],
   "source": [
    "# calculate fitness for whole population\n",
    "def calculate_fitness(state: Nim, population: list, nim_size):\n",
    "    for p1 in population:\n",
    "        for p2 in population:\n",
    "            head2head(p1,p2, nim_size)\n"
   ]
  },
  {
   "cell_type": "code",
   "execution_count": null,
   "metadata": {},
   "outputs": [],
   "source": [
    "\n",
    "def init_population(population_size: int, nim_size: int):\n",
    "    population = []\n",
    "    max_leave = (nim_size-1)*2 # last row of the table will have nim_size*2-1 objects\n",
    "\n",
    "    while population_size:\n",
    "        individual = {'Rule1': random.randint(0,max_leave), 'Rule2': [random.randint(0,1), max_leave], 'Rule3': random.randint(0, max_leave)}\n",
    "        individual['fitness'] = 0\n",
    "        population.append(individual)\n",
    "        population_size -= 1\n",
    "        \n",
    "    return population"
   ]
  },
  {
   "cell_type": "code",
   "execution_count": null,
   "metadata": {},
   "outputs": [],
   "source": [
    "def k_fittest_indv(population: list, k: int) -> list:\n",
    "    return sorted(population, key=lambda indv: indv['fitness'], reverse=True)[:k]\n"
   ]
  },
  {
   "cell_type": "code",
   "execution_count": null,
   "metadata": {},
   "outputs": [],
   "source": [
    "def clean_fitness(individuals: list):\n",
    "    for indv in individuals:\n",
    "        indv['fitness'] = 0"
   ]
  },
  {
   "cell_type": "code",
   "execution_count": null,
   "metadata": {},
   "outputs": [],
   "source": [
    "# select k random individuals, return the one with best fitness\n",
    "def tournament(population: list, k: int) -> dict:    \n",
    "    contestors = random.sample(population, k)\n",
    "    clean_fitness(contestors)\n",
    "    \n",
    "    for p1 in contestors:\n",
    "        for p2 in contestors:\n",
    "            if p1!=p2:\n",
    "                head2head(p1, p2)\n",
    "    best_contestor = sorted(contestors, key=lambda indv: indv['fitness'], reverse=True)[0]\n",
    "\n",
    "    return best_contestor\n",
    "    "
   ]
  },
  {
   "cell_type": "code",
   "execution_count": null,
   "metadata": {},
   "outputs": [],
   "source": [
    "# take two parents and create one child\n",
    "def crossover(parent1: dict, parent2: dict, mutation_prob: float) -> dict:\n",
    "    rules_parent1 = [key for key in parent1.keys() if 'Rule' in key]\n",
    "    rules_parent2 = [key for key in parent1.keys() if 'Rule' in key]\n",
    "\n",
    "    child = {}\n",
    "\n",
    "    for rule in rules_parent1:\n",
    "        which_parent = random.randint(0,1)\n",
    "        if which_parent == 0: # take rule from parent1\n",
    "            child[rule] = rules_parent1[rule]\n",
    "        else:\n",
    "            child[rule] = rules_parent2[rule]\n",
    "    \n",
    "    child['fitness'] = 0\n",
    "    rules = [key for key in child.keys() if 'Rule' in key]\n",
    "\n",
    "    #mutation\n",
    "    if random.random() < mutation_prob:\n",
    "        rule = random.choice(rules)\n",
    "        r1 = parent1[rule]\n",
    "        r2 = parent2[rule]\n",
    "        child[rule] = [int(d) for d in np.mean([r1, r2], axis=0).toList()]\n",
    "    logging.INFO('Child: {child}')\n",
    "        \n",
    "    return child\n",
    "\n",
    "     "
   ]
  },
  {
   "cell_type": "markdown",
   "metadata": {},
   "source": [
    "# Evolution strategy described\n",
    "\n",
    "1. Create inital population (with POPULATION_SIZE) where each player has the same set of rules but different parameters\n",
    "2. Generate offspring where OFFSPRING_SIZE>>POPULATION_SIZE:\n",
    "    - k individuals compete against each other and the fittest becomes a parent\n",
    "    - Preform crossover between two parents and create one child\n",
    "3. Play all children against each other to calculate fitness\n",
    "4. Pick out the top l \n",
    "2. Evaluate:\n",
    "    - Calculate fitness - all children plays agains each other (winner increase fitness)\n",
    "3. Select the top k fittest children\n",
    "4. Repeat 2-3 steps GENERATION amount of times\n"
   ]
  },
  {
   "cell_type": "code",
   "execution_count": null,
   "metadata": {},
   "outputs": [],
   "source": [
    "OFFSPRING_SIZE = 200\n",
    "K= 10\n",
    "def create_offspring(population: list, mutation_prob: float) -> list:\n",
    "    offspring = []\n",
    "    for i in range(OFFSPRING_SIZE):\n",
    "        parent1 = tournament(population=population,k=K)\n",
    "        parent2 = tournament(population=population, k=K)\n",
    "\n",
    "        child = crossover(parent1, parent2, mutation_prob=mutation_prob)\n",
    "\n",
    "        offspring.append(child)\n",
    "\n",
    "    return offspring"
   ]
  },
  {
   "cell_type": "code",
   "execution_count": null,
   "metadata": {},
   "outputs": [],
   "source": [
    "def get_next_generation(offspring: list) -> list:\n",
    "    for p1 in offspring:\n",
    "        for p2 in offspring:\n",
    "            calculate_fitness()\n",
    "    \n",
    "    best_k_offspring = sorted(offspring, key=lambda child: child['fitness'], reverse=True)[:POPULATION_SIZE]\n",
    "\n",
    "    return best_k_offspring\n"
   ]
  },
  {
   "cell_type": "code",
   "execution_count": null,
   "metadata": {},
   "outputs": [
    {
     "name": "stdout",
     "output_type": "stream",
     "text": [
      "<1 3 5>\n",
      "[{'Rule1': 12, 'Rule2': [0, 18], 'Rule3': 18}, {'Rule1': 7, 'Rule2': [0, 18], 'Rule3': 14}]\n",
      "10\n"
     ]
    }
   ],
   "source": [
    "POPULATION_SIZE = 10\n",
    "pop = init_population(2, POPULATION_SIZE)\n",
    "\n",
    "print(pop)\n",
    "print(POPULATION_SIZE)"
   ]
  },
  {
   "cell_type": "code",
   "execution_count": null,
   "metadata": {},
   "outputs": [],
   "source": [
    "def optimal_startegy(state: Nim) -> Nimply:\n",
    "    data = cook_status(state)\n",
    "    return next((bf for bf in data[\"brute_force\"] if bf[1] == 0), random.choice(data[\"brute_force\"]))[0]"
   ]
  },
  {
   "cell_type": "markdown",
   "metadata": {},
   "source": [
    "Oversimplified match"
   ]
  },
  {
   "cell_type": "code",
   "execution_count": null,
   "metadata": {},
   "outputs": [
    {
     "name": "stderr",
     "output_type": "stream",
     "text": [
      "DEBUG:root:status: Initial board  -> <1 3 5 7 9 11 13 15 17 19 21>\n",
      "DEBUG:root:status: After player 0 -> <1 3 5 7 9 11 13 15 6 19 21>\n",
      "DEBUG:root:status: After player 1 -> <1 3 3 7 9 11 13 15 6 19 21>\n",
      "DEBUG:root:status: After player 0 -> <1 3 3 1 9 11 13 15 6 19 21>\n",
      "DEBUG:root:status: After player 1 -> <1 3 3 1 9 11 13 15 6 8 21>\n",
      "DEBUG:root:status: After player 0 -> <1 3 3 1 9 11 13 15 6 8 14>\n",
      "DEBUG:root:status: After player 1 -> <0 3 3 1 9 11 13 15 6 8 14>\n",
      "DEBUG:root:status: After player 0 -> <0 2 3 1 9 11 13 15 6 8 14>\n",
      "DEBUG:root:status: After player 1 -> <0 2 3 0 9 11 13 15 6 8 14>\n",
      "DEBUG:root:status: After player 0 -> <0 2 2 0 9 11 13 15 6 8 14>\n",
      "DEBUG:root:status: After player 1 -> <0 2 2 0 9 11 9 15 6 8 14>\n",
      "DEBUG:root:status: After player 0 -> <0 2 2 0 9 11 9 11 6 8 14>\n",
      "DEBUG:root:status: After player 1 -> <0 2 2 0 9 10 9 11 6 8 14>\n",
      "DEBUG:root:status: After player 0 -> <0 2 2 0 8 10 9 11 6 8 14>\n",
      "DEBUG:root:status: After player 1 -> <0 1 2 0 8 10 9 11 6 8 14>\n",
      "DEBUG:root:status: After player 0 -> <0 1 1 0 8 10 9 11 6 8 14>\n",
      "DEBUG:root:status: After player 1 -> <0 1 1 0 8 2 9 11 6 8 14>\n",
      "DEBUG:root:status: After player 0 -> <0 1 1 0 0 2 9 11 6 8 14>\n",
      "DEBUG:root:status: After player 1 -> <0 1 1 0 0 2 1 11 6 8 14>\n",
      "DEBUG:root:status: After player 0 -> <0 1 1 0 0 2 1 3 6 8 14>\n",
      "DEBUG:root:status: After player 1 -> <0 1 1 0 0 2 0 3 6 8 14>\n",
      "DEBUG:root:status: After player 0 -> <0 0 1 0 0 2 0 3 6 8 14>\n",
      "DEBUG:root:status: After player 1 -> <0 0 1 0 0 1 0 3 6 8 14>\n",
      "DEBUG:root:status: After player 0 -> <0 0 1 0 0 1 0 0 6 8 14>\n",
      "DEBUG:root:status: After player 1 -> <0 0 0 0 0 1 0 0 6 8 14>\n",
      "DEBUG:root:status: After player 0 -> <0 0 0 0 0 0 0 0 6 8 14>\n",
      "DEBUG:root:status: After player 1 -> <0 0 0 0 0 0 0 0 1 8 14>\n",
      "DEBUG:root:status: After player 0 -> <0 0 0 0 0 0 0 0 1 8 9>\n",
      "DEBUG:root:status: After player 1 -> <0 0 0 0 0 0 0 0 1 5 9>\n",
      "DEBUG:root:status: After player 0 -> <0 0 0 0 0 0 0 0 1 5 4>\n",
      "DEBUG:root:status: After player 1 -> <0 0 0 0 0 0 0 0 1 5 1>\n",
      "DEBUG:root:status: After player 0 -> <0 0 0 0 0 0 0 0 1 0 1>\n",
      "DEBUG:root:status: After player 1 -> <0 0 0 0 0 0 0 0 1 0 0>\n",
      "DEBUG:root:status: After player 0 -> <0 0 0 0 0 0 0 0 0 0 0>\n",
      "INFO:root:status: Player 0 won!\n"
     ]
    }
   ],
   "source": [
    "logging.getLogger().setLevel(logging.DEBUG)\n",
    "\n",
    "#strategy = (nim_sum_l({\"p\": 0.1}), optimal_startegy)\n",
    "\n",
    "nim = Nim(11)\n",
    "logging.debug(f\"status: Initial board  -> {nim}\")\n",
    "player = 0\n",
    "while nim:\n",
    "    ply = nim_sum_l(nim)\n",
    "    nim.nimming(ply)\n",
    "    logging.debug(f\"status: After player {player} -> {nim}\")\n",
    "    player = 1 - player\n",
    "winner = 1 - player\n",
    "logging.info(f\"status: Player {winner} won!\")\n"
   ]
  }
 ],
 "metadata": {
  "kernelspec": {
   "display_name": "Python 3.9.13 64-bit (microsoft store)",
   "language": "python",
   "name": "python3"
  },
  "language_info": {
   "codemirror_mode": {
    "name": "ipython",
    "version": 3
   },
   "file_extension": ".py",
   "mimetype": "text/x-python",
   "name": "python",
   "nbconvert_exporter": "python",
   "pygments_lexer": "ipython3",
   "version": "3.9.13"
  },
  "orig_nbformat": 4,
  "vscode": {
   "interpreter": {
    "hash": "8f2b8f7d7da3b55c8640ff0ad5b752ba61ffdffe564a4378c820bcd9964834b8"
   }
  }
 },
 "nbformat": 4,
 "nbformat_minor": 2
}
