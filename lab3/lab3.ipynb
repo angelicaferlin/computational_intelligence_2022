{
 "cells": [
  {
   "cell_type": "markdown",
   "metadata": {},
   "source": [
    "# Lab 3\n"
   ]
  },
  {
   "cell_type": "code",
   "execution_count": 86,
   "metadata": {},
   "outputs": [],
   "source": [
    "import logging\n",
    "from collections import namedtuple\n",
    "import random\n",
    "from typing import Callable\n",
    "from copy import deepcopy\n",
    "from itertools import accumulate\n",
    "from operator import xor\n",
    "import numpy as np"
   ]
  },
  {
   "cell_type": "code",
   "execution_count": 143,
   "metadata": {},
   "outputs": [],
   "source": [
    "# variables\n",
    "OFFSPRING_SIZE = 200\n",
    "K= 5\n",
    "POPULATION_SIZE = 50\n",
    "TOURNAMENT_SIZE = 5\n"
   ]
  },
  {
   "cell_type": "markdown",
   "metadata": {},
   "source": [
    "# The Nim and Nimply classes"
   ]
  },
  {
   "cell_type": "code",
   "execution_count": 88,
   "metadata": {},
   "outputs": [],
   "source": [
    "Nimply = namedtuple(\"Nimply\", \"row, num_objects\") # move"
   ]
  },
  {
   "cell_type": "code",
   "execution_count": 89,
   "metadata": {},
   "outputs": [],
   "source": [
    "class Nim:\n",
    "    def __init__(self, num_rows: int, k: int = None) -> None:\n",
    "        self._rows = [i * 2 + 1 for i in range(num_rows)]\n",
    "        self._k = k\n",
    "\n",
    "    def __bool__(self):\n",
    "        return sum(self._rows) > 0\n",
    "\n",
    "    def __str__(self):\n",
    "        return \"<\" + \" \".join(str(_) for _ in self._rows) + \">\"\n",
    "\n",
    "    @property\n",
    "    def rows(self) -> tuple:\n",
    "        return tuple(self._rows)\n",
    "\n",
    "    @property\n",
    "    def k(self) -> int:\n",
    "        return self._k\n",
    "\n",
    "    def nimming(self, ply: Nimply) -> None:\n",
    "        row, num_objects = ply\n",
    "        assert self._rows[row] >= num_objects\n",
    "        assert self._k is None or num_objects <= self._k\n",
    "        self._rows[row] -= num_objects"
   ]
  },
  {
   "cell_type": "markdown",
   "metadata": {},
   "source": [
    "# Agents\n"
   ]
  },
  {
   "cell_type": "code",
   "execution_count": 90,
   "metadata": {},
   "outputs": [],
   "source": [
    "#Agent playing with nim_sum\n",
    "def nim_sum_l(nim):\n",
    "  X = nim._rows[0]\n",
    "  # X is the nim_sum(bitwise xor) of all heap sizes\n",
    "  for i in range(1, len(nim._rows)):\n",
    "    X = X ^ nim._rows[i]\n",
    "\n",
    "  nim_sum_val = []\n",
    "  # calculate the nim_sum between X and each heap size\n",
    "  for i in nim._rows:\n",
    "    val = i ^ X\n",
    "    nim_sum_val.append(val)\n",
    "\n",
    "  row = \"false\"\n",
    " \n",
    "  for i in range(len(nim_sum_val)):\n",
    "    if nim_sum_val[i] < nim._rows[i]:\n",
    "      row = i\n",
    "      break\n",
    "  \n",
    "  # reduce that heap to value nim_sum\n",
    "  if (row != \"false\"):\n",
    "    num_objects = nim._rows[row] - nim_sum_val[row]\n",
    "    move = Nimply(row, num_objects)\n",
    "  \n",
    "  else:\n",
    "    rand_row = random.randrange(0,len(nim._rows))\n",
    "\n",
    "    while(nim._rows[rand_row] == 0):\n",
    "      rand_row = random.randrange(0,len(nim._rows))\n",
    "\n",
    "    if(nim._rows[rand_row] != 1):\n",
    "      rand_obj = random.randrange(1, nim._rows[rand_row])\n",
    "                                  \n",
    "    else: rand_obj = 1\n",
    "    move = Nimply(rand_row, rand_obj)\n",
    "  return move"
   ]
  },
  {
   "cell_type": "markdown",
   "metadata": {},
   "source": [
    "# Evolved Strategy\n",
    "\n",
    "0 the middle column\n",
    "pick one from the longest\n",
    "pick one from random rows\n",
    "zero the smallest row\n",
    "half the biggest row\n",
    "take k sticks if possible otherwise take the max <br />\n",
    "\n",
    "onerow-stategy: only one row - leave x\n",
    "2 rows: 1 rad = 1 element. ta x element från den andra raden\n",
    "2 rows: both has more than 1 element - take random\n",
    "else: take random random. \n",
    "\n",
    "genome: dict \n",
    "individ = {rule1: x, rule2:y, rule3:z, rule4:n}"
   ]
  },
  {
   "cell_type": "code",
   "execution_count": 91,
   "metadata": {},
   "outputs": [],
   "source": [
    "#Remove x element from the only row left\n",
    "# 0 < x <= k\n",
    "def one_row_strategy(state: Nim, individual) -> Nimply:\n",
    "    row_counter = -1\n",
    "    for row in state.rows: \n",
    "        row_counter += 1\n",
    "        if row > 0:\n",
    "            return Nimply(row_counter , min(row, individual[0]))\n"
   ]
  },
  {
   "cell_type": "code",
   "execution_count": 92,
   "metadata": {},
   "outputs": [],
   "source": [
    "def zero_middle_column(nim):\n",
    "    #find the row with the amount of sticks that are in the middle\n",
    "    sorted_rows = sorted(nim._rows)\n",
    "\n",
    "    middle_row = int(len(sorted_rows)/2) #make sure it is an even number\n",
    "\n",
    "    obj = sorted_rows[middle_row]\n",
    "\n",
    "    for i in nim._rows:\n",
    "        if nim._rows[i] == obj:\n",
    "            final_row = i\n",
    "\n",
    "    move = Nimply(i, obj)\n",
    "    \n",
    "    return move\n"
   ]
  },
  {
   "cell_type": "markdown",
   "metadata": {},
   "source": [
    "# MinMax\n"
   ]
  },
  {
   "cell_type": "code",
   "execution_count": 93,
   "metadata": {},
   "outputs": [],
   "source": [
    "def all_possible_moves(nim):\n",
    "    possible_moves = []\n",
    "\n",
    "    for row in range(len(nim._rows)):\n",
    "        for j in range(nim._rows[row]):\n",
    "            copy_row = deepcopy(row)\n",
    "\n",
    "            new_move = copy_row[row] - j - 1\n",
    "            possible_moves.append(new_move)\n",
    "\n",
    "    return possible_moves\n",
    "            "
   ]
  },
  {
   "cell_type": "code",
   "execution_count": 94,
   "metadata": {},
   "outputs": [],
   "source": [
    "def evaluate_nim(nim, player):\n",
    "    if not nim: # if game is finished\n",
    "        # player 0 loose if return -1\n",
    "        return -1 if player == 0 else 1\n"
   ]
  },
  {
   "cell_type": "markdown",
   "metadata": {},
   "source": [
    "# Sample strategies"
   ]
  },
  {
   "cell_type": "code",
   "execution_count": 95,
   "metadata": {},
   "outputs": [],
   "source": [
    "def pure_random(state: Nim) -> Nimply:\n",
    "    row = random.choice([r for r, c in enumerate(state.rows) if c > 0])\n",
    "    num_objects = random.randint(1, state.rows[row])\n",
    "    return Nimply(row, num_objects)"
   ]
  },
  {
   "cell_type": "code",
   "execution_count": 96,
   "metadata": {},
   "outputs": [],
   "source": [
    "def nim_sum(state: Nim) -> int:\n",
    "    *_, result = accumulate(state.rows, xor)\n",
    "    return result"
   ]
  },
  {
   "cell_type": "code",
   "execution_count": 97,
   "metadata": {},
   "outputs": [],
   "source": [
    "def active_rows_index(state: Nim) -> list:\n",
    "    active_rows_index = []\n",
    "    count = 0\n",
    "    for o in state.rows:\n",
    "        if o > 0:\n",
    "          active_rows_index.append(count)\n",
    "        count += 1\n",
    "    return active_rows_index"
   ]
  },
  {
   "cell_type": "code",
   "execution_count": 98,
   "metadata": {},
   "outputs": [],
   "source": [
    "def cook_status(state: Nim) -> dict:\n",
    "    cooked = dict()\n",
    "    cooked[\"possible_moves\"] = [\n",
    "        (r, o) for r, c in enumerate(state.rows) for o in range(1, c + 1) if state.k is None or o <= state.k\n",
    "    ]\n",
    "    cooked[\"active_rows_number\"] = sum(o > 0 for o in state.rows)\n",
    "    cooked[\"active_rows_index\"] = active_rows_index(state)\n",
    "    cooked[\"rows_with_one_element\"] = [(index, r) for index, r in enumerate(state.rows) if r == 1]\n",
    "    \n",
    "    cooked[\"shortest_row\"] = min((x for x in enumerate(state.rows) if x[1] > 0), key=lambda y: y[1])[0]\n",
    "    cooked[\"longest_row\"] = max((x for x in enumerate(state.rows)), key=lambda y: y[1])[0]\n",
    "    cooked[\"nim_sum\"] = nim_sum(state)\n",
    "    \n",
    "    cooked[\"pure_random\"] = pure_random(state)\n",
    "\n",
    "    brute_force = list()\n",
    "    for m in cooked[\"possible_moves\"]:\n",
    "        tmp = deepcopy(state)\n",
    "        tmp.nimming(m)\n",
    "        brute_force.append((m, nim_sum(tmp)))\n",
    "    cooked[\"brute_force\"] = brute_force\n",
    "\n",
    "    return cooked"
   ]
  },
  {
   "cell_type": "code",
   "execution_count": 99,
   "metadata": {},
   "outputs": [],
   "source": [
    "def optimal_startegy(state: Nim) -> Nimply:\n",
    "    data = cook_status(state)\n",
    "    return next((bf for bf in data[\"brute_force\"] if bf[1] == 0), random.choice(data[\"brute_force\"]))[0]"
   ]
  },
  {
   "cell_type": "code",
   "execution_count": 135,
   "metadata": {},
   "outputs": [],
   "source": [
    "#An agent returning a random move\n",
    "def random_agent(state: Nim):\n",
    "    data = cook_status(state)\n",
    "    return data[\"pure_random\"]\n",
    "    "
   ]
  },
  {
   "cell_type": "code",
   "execution_count": 101,
   "metadata": {},
   "outputs": [],
   "source": [
    "#A dumb agent that always picks one element from the longest row\n",
    "def dumb(state: Nim):\n",
    "    data = cook_status(state=state)\n",
    "    row = data[\"longest_row\"]\n",
    "    return Nimply(row, 1)"
   ]
  },
  {
   "cell_type": "code",
   "execution_count": 102,
   "metadata": {},
   "outputs": [],
   "source": [
    "#Create the agents that will play as opponents:\n",
    "# One that plays with the nim_sum strategy\n",
    "# One that plays using a random strategy\n",
    "# One that always pick one element from the longest row\n",
    "\n",
    "OPPONENT = [nim_sum_l, rand, dumb]"
   ]
  },
  {
   "cell_type": "markdown",
   "metadata": {},
   "source": [
    "# Rules"
   ]
  },
  {
   "cell_type": "code",
   "execution_count": 103,
   "metadata": {},
   "outputs": [],
   "source": [
    "def rule_two(state: Nim, data:dict, genome: dict):\n",
    "  active_rows_index = data[\"active_rows_index\"]\n",
    "  single_elem_rows = data[\"rows_with_one_element\"]\n",
    "\n",
    "  if genome[\"Rule2\"][0] == 0:  # take from row with one elem\n",
    "    elem = 1 # want to take the last elem in row\n",
    "    single_elem_row = single_elem_rows[0][0] # looks like [(row,elem),(row,elem)] if two rows with single elem\n",
    "    ply = Nimply(single_elem_row, 1)\n",
    "\n",
    "  else: #take from the row with more than one element\n",
    "    if len(single_elem_rows) > 1:\n",
    "      row = single_elem_rows[0][0]\n",
    "    else:\n",
    "      row = [i for i in active_rows_index if state.rows[i] != 1][0]\n",
    "    \n",
    "    if (genome['Rule2'][1] > row): # if it wants to leave more elem than exists in row\n",
    "      elem = 1\n",
    "      ply = Nimply(row, 1)\n",
    "                      \n",
    "    else: \n",
    "      elem = max(state.rows[row] - genome['Rule2'][1], 1)\n",
    "      ply = Nimply(row, elem)\n",
    "      \n",
    "  return ply"
   ]
  },
  {
   "cell_type": "code",
   "execution_count": 104,
   "metadata": {},
   "outputs": [],
   "source": [
    "def rule_three(state: Nim, data: dict, genome: dict):\n",
    "  #logging.debug('Coosing rule 3')\n",
    "  if (genome['Rule3'][0] == 0): # choose from row with fewest elemt\n",
    "    row = data['shortest_row']\n",
    "  else:\n",
    "    row = data['longest_row']\n",
    "      \n",
    "  elem = max(state.rows[row] - genome['Rule3'][1], 1)\n",
    "  ply = Nimply(row, elem)\n",
    "\n",
    "  return ply"
   ]
  },
  {
   "cell_type": "code",
   "execution_count": 105,
   "metadata": {},
   "outputs": [],
   "source": [
    "def two_rows_left(state: Nim, data: dict, genome: dict ) -> Nimply:\n",
    "  \n",
    "  rows_with_one_elem = data[\"rows_with_one_element\"]\n",
    " \n",
    "  if rows_with_one_elem: # Rule 2\n",
    "    #logging.debug(\"Choosing rule 2\")\n",
    "    ply = rule_two(state=state, data=data, genome=genome)\n",
    "  \n",
    "  else: # Rule 3              \n",
    "    ply = rule_three(state, data, genome)\n",
    "\n",
    "  return ply"
   ]
  },
  {
   "cell_type": "code",
   "execution_count": 106,
   "metadata": {},
   "outputs": [],
   "source": [
    "\"\"\"\n",
    "Rule 1\n",
    "\"\"\"\n",
    "def one_row_left(state: Nim, data: dict, genome: dict) -> Nimply:\n",
    "    \n",
    "    #Rule 1 - if only one row left: leave x sticks\n",
    "    active_row = data[\"active_rows_index\"][0]\n",
    "    elem_last_row = state.rows[active_row] #active_rows_index returns a list -> need to get the first one\n",
    "   \n",
    "    if elem_last_row < genome['Rule1']: #if the rule want to leave more sticks than exists in row\n",
    "        ply = Nimply(active_row, 1)\n",
    "        \n",
    "    else:\n",
    "        #add if you want to take more than K - take k\n",
    "        #if (k <)\n",
    "        \n",
    "        elem_to_remove = max(elem_last_row - genome[\"Rule1\"], 1) #if take more elem than exists -> take all\n",
    "        ply = Nimply(active_row, elem_to_remove)\n",
    "\n",
    "    return ply\n",
    "  "
   ]
  },
  {
   "cell_type": "code",
   "execution_count": 107,
   "metadata": {},
   "outputs": [],
   "source": [
    "def make_strategy(genome: dict) -> Callable:\n",
    "    def evolvable(state: Nim) -> Nimply:\n",
    "        data = cook_status(state)\n",
    "\n",
    "        active_rows_number = data[\"active_rows_number\"]\n",
    "\n",
    "        #only one active row left\n",
    "        if active_rows_number == 1:\n",
    "            #logging.debug('Choosing rule 1')\n",
    "            ply = one_row_left(state=state,data=data, genome=genome) \n",
    "        \n",
    "        elif active_rows_number == 2:\n",
    "           ply = two_rows_left(state=state, data=data, genome=genome)\n",
    "      \n",
    "        else:\n",
    "            move = random.choice(data[\"possible_moves\"])\n",
    "            ply = Nimply(move[0], move[1])\n",
    "\n",
    "        return ply\n",
    "\n",
    "    return evolvable"
   ]
  },
  {
   "cell_type": "code",
   "execution_count": 108,
   "metadata": {},
   "outputs": [
    {
     "name": "stdout",
     "output_type": "stream",
     "text": [
      "<1 0 0>\n",
      "Nimply(row=0, num_objects=1)\n"
     ]
    }
   ],
   "source": [
    "nim = Nim(3)\n",
    "\n",
    "ply = Nimply(2,5)\n",
    "nim.nimming(ply)\n",
    "ply = Nimply(1,3)\n",
    "nim.nimming(ply)\n",
    "\n",
    "data = cook_status(nim)\n",
    "\n",
    "print(nim)\n",
    "\n",
    "genome = {'Rule1': 1, 'Rule2': [0,3], 'Rule3': [1,10]}\n",
    "\n",
    "pl = make_strategy(genome=genome)\n",
    "ply = pl(nim)\n",
    "print(ply)\n",
    "nim.nimming(ply)\n",
    "\n",
    "#print(\"rows_with_one_elem\", data[\"rows_with_one_element\"])\n",
    "\n",
    "#print(\"rdfjh\",state.rows[data[\"active_rows_index\"][0]])\n",
    "\n",
    "#one_match = [(index, r) for index, r in enumerate(state.rows) if r == 1]"
   ]
  },
  {
   "cell_type": "code",
   "execution_count": 109,
   "metadata": {},
   "outputs": [],
   "source": [
    "from tqdm import tqdm\n",
    "#compute the fittness\n",
    "def head2head(individual1: dict, opponent: Callable, nim_size: int):\n",
    "    won = 0\n",
    "    NUM_MATCHES = 1 \n",
    "    nim = Nim(nim_size)\n",
    "\n",
    "    players = (make_strategy(individual1), opponent)\n",
    "    player = 0\n",
    "    \n",
    "    #logging.debug(f\"status: Initial board  -> {nim}\")\n",
    "    while nim:\n",
    "        ply = players[player](nim)\n",
    "        nim.nimming(ply)\n",
    "        #logging.debug(f\"status: After player {player} -> {nim}\")\n",
    "        player = 1 - player\n",
    "    winner = 1 - player\n",
    "    \n",
    "    if winner == 0:\n",
    "        individual1[\"fitness\"] +=1\n",
    "        #logging.debug('Player won over agent')\n",
    "        #öka fitness på individ1 vid vinst\n",
    "   \n",
    "    \n",
    "   \n"
   ]
  },
  {
   "cell_type": "code",
   "execution_count": 110,
   "metadata": {},
   "outputs": [
    {
     "name": "stdout",
     "output_type": "stream",
     "text": [
      "{'Rule1': 2, 'Rule2': [1, 3], 'Rule3': [1, 10], 'fitness': 0}\n"
     ]
    }
   ],
   "source": [
    "indv1 = {'Rule1': 2, 'Rule2': [1,3], 'Rule3': [1,10], 'fitness':0}\n",
    "indv2 = {'Rule1': 0, 'Rule2': [1,2], 'Rule3': [2,2], 'fitness':0}\n",
    "#OPPONENT = [nim_sum_l, rand, dumb]\n",
    "\n",
    "#opponent = OPPONENT[2]\n",
    "\n",
    "#head2head(indv1, opponent, 3)\n",
    "\n",
    "print(indv1)\n",
    "\n",
    "\n"
   ]
  },
  {
   "cell_type": "code",
   "execution_count": 111,
   "metadata": {},
   "outputs": [],
   "source": [
    "# calculate fitness for whole population\n",
    "def calculate_fitness(population: list, nim_size):\n",
    "    NUM_MATCHES = 10\n",
    "    for strat in OPPONENT:\n",
    "        for p1 in population:\n",
    "            for _ in range(NUM_MATCHES):\n",
    "                head2head(individual1=p1, opponent=strat, nim_size=nim_size)\n"
   ]
  },
  {
   "cell_type": "code",
   "execution_count": 112,
   "metadata": {},
   "outputs": [
    {
     "data": {
      "text/plain": [
       "'\\ndef evaluate(player1: dict, player2: dict, nim_size: int):\\n    # play 10 times against each other\\n    games = 10\\n    player_one_first = True\\n    while games > 0:\\n        if player_one_first:\\n            head2head(player1, player2, nim_size)\\n        else:\\n            head2head(player2, player1, nim_size)\\n        games -=1\\n'"
      ]
     },
     "execution_count": 112,
     "metadata": {},
     "output_type": "execute_result"
    }
   ],
   "source": [
    "\"\"\"\n",
    "def evaluate(player1: dict, player2: dict, nim_size: int):\n",
    "    # play 10 times against each other\n",
    "    games = 10\n",
    "    player_one_first = True\n",
    "    while games > 0:\n",
    "        if player_one_first:\n",
    "            head2head(player1, player2, nim_size)\n",
    "        else:\n",
    "            head2head(player2, player1, nim_size)\n",
    "        games -=1\n",
    "\"\"\""
   ]
  },
  {
   "cell_type": "code",
   "execution_count": 113,
   "metadata": {},
   "outputs": [],
   "source": [
    "\n",
    "def init_population(nim_size: int) -> list:\n",
    "    population = []\n",
    "    max_leave = (nim_size-1)*2 # last row of the table will have nim_size*2-1 objects\n",
    "\n",
    "    cond = POPULATION_SIZE\n",
    "    \n",
    "    while cond:\n",
    "        individual = {'Rule1': random.randint(0,max_leave), 'Rule2': [random.randint(0,1), max_leave], 'Rule3': [random.randint(0, 1), random.randint(0, max_leave)]}\n",
    "        individual['fitness'] = 0\n",
    "        population.append(individual)\n",
    "        cond -= 1\n",
    "    return population"
   ]
  },
  {
   "cell_type": "code",
   "execution_count": 114,
   "metadata": {},
   "outputs": [],
   "source": [
    "def k_fittest_indv(population: list, k: int) -> list:\n",
    "    return sorted(population, key=lambda indv: indv['fitness'], reverse=True)[:k]\n"
   ]
  },
  {
   "cell_type": "code",
   "execution_count": 115,
   "metadata": {},
   "outputs": [],
   "source": [
    "def clean_fitness(individuals: list):\n",
    "    for indv in individuals:\n",
    "        indv['fitness'] = 0"
   ]
  },
  {
   "cell_type": "code",
   "execution_count": 116,
   "metadata": {},
   "outputs": [],
   "source": [
    "# select k random individuals, return the one with best fitness\n",
    "def tournament(population: list, nim_size: int) -> dict:    \n",
    "    contestors = random.sample(population, TOURNAMENT_SIZE)\n",
    "    best_contestor = sorted(contestors, key=lambda indv: indv['fitness'], reverse=True)[0]\n",
    "\n",
    "    #clean_fitness(contestors)\n",
    "\n",
    "    #for p1 in contestors:\n",
    "    #    for p2 in contestors:\n",
    "    #        if p1!=p2:\n",
    "    #            head2head(individual1=p1, opponent=opponent, nim_size=nim_size)\n",
    "    \n",
    "    #best_contestor = sorted(contestors, key=lambda indv: indv['fitness'], reverse=True)[0]\n",
    "  \n",
    "    return best_contestor\n",
    "    "
   ]
  },
  {
   "cell_type": "code",
   "execution_count": 117,
   "metadata": {},
   "outputs": [],
   "source": [
    "# take two parents and create one child\n",
    "def crossover(parent1: dict, parent2: dict, mutation_prob: float) -> dict:\n",
    "    rules_parent1 = [key for key in parent1.keys() if 'Rule' in key]\n",
    "    \n",
    "    child = {}\n",
    "\n",
    "    for rule in rules_parent1:\n",
    "        which_parent = random.randint(0,1)\n",
    "        if which_parent == 0: # take rule from parent1\n",
    "            child[rule] = parent1[rule]\n",
    "        else:\n",
    "            child[rule] = parent2[rule]\n",
    "    \n",
    "    child['fitness'] = 0\n",
    "    rules = [key for key in child.keys() if 'Rule' in key]\n",
    "\n",
    "    #mutation\n",
    "    if random.random() < mutation_prob:\n",
    "        rule = random.choice(rules)\n",
    "        r1 = parent1[rule]\n",
    "        r2 = parent2[rule]\n",
    "\n",
    "        if rule == 'Rule1':\n",
    "            mean = int((r1+r2)/2)\n",
    "            child[rule] = mean\n",
    "\n",
    "        else:\n",
    "            mean_val_one = int((r1[0]+r2[0])/2)\n",
    "            mean_val_two = int((r1[1]+r2[1])/2)\n",
    "            child[rule] = [mean_val_one, mean_val_two]\n",
    "    #logging.INFO('Child: {child}')  \n",
    "    return child\n",
    "\n",
    "     "
   ]
  },
  {
   "cell_type": "code",
   "execution_count": 118,
   "metadata": {},
   "outputs": [
    {
     "data": {
      "text/plain": [
       "{'Rule1': 1, 'Rule2': [0, 3], 'Rule3': [2, 2], 'fitness': 0}"
      ]
     },
     "execution_count": 118,
     "metadata": {},
     "output_type": "execute_result"
    }
   ],
   "source": [
    "indv1 = {'Rule1': 2, 'Rule2': [0,3], 'Rule3': [1,10], 'fitness':0}\n",
    "indv2 = {'Rule1': 0, 'Rule2': [1,2], 'Rule3': [2,2], 'fitness':0}\n",
    "\n",
    "crossover(indv1, indv2, 0.8)"
   ]
  },
  {
   "cell_type": "markdown",
   "metadata": {},
   "source": [
    "# Evolution strategy described\n",
    "\n",
    "1. Create inital population (with POPULATION_SIZE) where each player has the same set of rules but different parameters\n",
    "2. Generate offspring where OFFSPRING_SIZE>>POPULATION_SIZE:\n",
    "    - k individuals compete against each other and the fittest becomes a parent\n",
    "    - Preform crossover between two parents and create one child\n",
    "3. Play all children against each other to calculate fitness\n",
    "4. Pick out the top l \n",
    "2. Evaluate:\n",
    "    - Calculate fitness - all children plays agains each other (winner increase fitness)\n",
    "3. Select the top k fittest children\n",
    "4. Repeat 2-3 steps GENERATION amount of times\n"
   ]
  },
  {
   "cell_type": "code",
   "execution_count": 119,
   "metadata": {},
   "outputs": [],
   "source": [
    "def create_offspring(population: list, nim_size: int, mutation_prob: float) -> list:\n",
    "    offspring = []\n",
    "    for i in range(OFFSPRING_SIZE):\n",
    "        parent1 = tournament(population=population, nim_size=nim_size)\n",
    "        parent2 = tournament(population=population, nim_size=nim_size)\n",
    "\n",
    "        child = crossover(parent1, parent2, mutation_prob=mutation_prob)\n",
    "        \n",
    "        offspring.append(child)\n",
    "    return offspring"
   ]
  },
  {
   "cell_type": "code",
   "execution_count": 120,
   "metadata": {},
   "outputs": [],
   "source": [
    "def get_next_generation(population: list) -> list:\n",
    "    best_k_offspring = sorted(population, key=lambda child: child['fitness'], reverse=True)[:POPULATION_SIZE]\n",
    "\n",
    "    return best_k_offspring\n"
   ]
  },
  {
   "cell_type": "code",
   "execution_count": 132,
   "metadata": {},
   "outputs": [],
   "source": [
    "# GAME\n",
    "nim_size = 5\n",
    "GENERATIONS = 2\n",
    "\n",
    "def evolution_agent(nim_size: int):\n",
    "    population = init_population(nim_size=nim_size) \n",
    "    #logging.debug(f\"Initial pop {population}\")\n",
    "    \n",
    "    for _ in range(GENERATIONS):\n",
    "        #print(offspring)\n",
    "        #evaluate(offspring[0], data[\"\"], nim_size)\n",
    "        offspring = create_offspring(population, nim_size, 0.2)\n",
    "        #logging.debug(f\"Created Offspring {offspring}\")\n",
    "        calculate_fitness(population=offspring, nim_size=nim_size)\n",
    "        #logging.debug(f\"Calculated fitness {offspring}\")\n",
    "        #offspring = create_offspring(population=next_gen, nim_size=nim_size, mutation_prob=0.5)\n",
    "        population = get_next_generation(population=offspring)\n",
    "        \n",
    "    best_indv = population[0]\n",
    "    logging.debug(f\"best player {best_indv}\")\n",
    "    return best_indv\n"
   ]
  },
  {
   "cell_type": "code",
   "execution_count": 133,
   "metadata": {},
   "outputs": [
    {
     "name": "stderr",
     "output_type": "stream",
     "text": [
      "DEBUG:root:best player {'Rule1': 0, 'Rule2': [1, 4], 'Rule3': [1, 4], 'fitness': 16}\n"
     ]
    },
    {
     "name": "stdout",
     "output_type": "stream",
     "text": [
      "{'Rule1': 0, 'Rule2': [1, 4], 'Rule3': [1, 4], 'fitness': 16}\n"
     ]
    }
   ],
   "source": [
    "\n",
    "\n",
    "best = evolution_agent(3)\n",
    "\n",
    "\n",
    "print(best)"
   ]
  },
  {
   "cell_type": "markdown",
   "metadata": {},
   "source": [
    "Oversimplified match"
   ]
  },
  {
   "cell_type": "code",
   "execution_count": 147,
   "metadata": {},
   "outputs": [
    {
     "name": "stderr",
     "output_type": "stream",
     "text": [
      "DEBUG:root:best player {'Rule1': 0, 'Rule2': [0, 8], 'Rule3': [1, 7], 'fitness': 19}\n",
      "DEBUG:root:status: Initial board  -> <1 3 5 7 9>\n",
      "DEBUG:root:status: After player 0 -> <0 3 5 7 9>\n",
      "DEBUG:root:status: After player 1 -> <0 3 5 7 8>\n",
      "DEBUG:root:status: After player 0 -> <0 3 5 3 8>\n",
      "DEBUG:root:status: After player 1 -> <0 3 5 3 7>\n",
      "DEBUG:root:status: After player 0 -> <0 3 4 3 7>\n",
      "DEBUG:root:status: After player 1 -> <0 3 4 3 6>\n",
      "DEBUG:root:status: After player 0 -> <0 0 4 3 6>\n",
      "DEBUG:root:status: After player 1 -> <0 0 4 3 5>\n",
      "DEBUG:root:status: After player 0 -> <0 0 4 2 5>\n",
      "DEBUG:root:status: After player 1 -> <0 0 4 2 4>\n",
      "DEBUG:root:status: After player 0 -> <0 0 0 2 4>\n",
      "DEBUG:root:status: After player 1 -> <0 0 0 2 3>\n",
      "DEBUG:root:status: After player 0 -> <0 0 0 2 2>\n",
      "DEBUG:root:status: After player 1 -> <0 0 0 1 2>\n",
      "DEBUG:root:status: After player 0 -> <0 0 0 0 2>\n",
      "DEBUG:root:status: After player 1 -> <0 0 0 0 1>\n",
      "DEBUG:root:status: After player 0 -> <0 0 0 0 0>\n",
      "INFO:root:status: Player 0 won!\n"
     ]
    }
   ],
   "source": [
    "logging.getLogger().setLevel(logging.DEBUG)\n",
    "\n",
    "\n",
    "def play_nim(agent1: Callable, opponent: Callable):\n",
    "    nim = Nim(5)\n",
    "    logging.debug(f\"status: Initial board  -> {nim}\")\n",
    "    strategy = (agent1, opponent)\n",
    "    player = 0\n",
    "\n",
    "    while nim:\n",
    "        ply = strategy[player](nim)\n",
    "        nim.nimming(ply)\n",
    "        logging.debug(f\"status: After player {player} -> {nim}\")\n",
    "        player = 1 - player\n",
    "    winner = 1 - player\n",
    "    logging.info(f\"status: Player {winner} won!\")\n",
    "\n",
    "play_nim(make_strategy(evolution_agent(5)), dumb)\n",
    "\n"
   ]
  }
 ],
 "metadata": {
  "kernelspec": {
   "display_name": "Python 3.9.13 64-bit (microsoft store)",
   "language": "python",
   "name": "python3"
  },
  "language_info": {
   "codemirror_mode": {
    "name": "ipython",
    "version": 3
   },
   "file_extension": ".py",
   "mimetype": "text/x-python",
   "name": "python",
   "nbconvert_exporter": "python",
   "pygments_lexer": "ipython3",
   "version": "3.9.13"
  },
  "orig_nbformat": 4,
  "vscode": {
   "interpreter": {
    "hash": "8f2b8f7d7da3b55c8640ff0ad5b752ba61ffdffe564a4378c820bcd9964834b8"
   }
  }
 },
 "nbformat": 4,
 "nbformat_minor": 2
}
