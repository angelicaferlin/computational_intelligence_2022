{
 "cells": [
  {
   "cell_type": "markdown",
   "metadata": {},
   "source": [
    "# Task 3.3: Min-max agent\n",
    "Player 0 = maximizing <br/>\n",
    "Player 1 = minimizing"
   ]
  },
  {
   "cell_type": "code",
   "execution_count": 1,
   "metadata": {},
   "outputs": [],
   "source": [
    "import logging\n",
    "from collections import namedtuple\n",
    "import random\n",
    "from typing import Callable\n",
    "from copy import deepcopy\n",
    "from itertools import accumulate\n",
    "from operator import xor\n",
    "import numpy as np"
   ]
  },
  {
   "cell_type": "code",
   "execution_count": 2,
   "metadata": {},
   "outputs": [],
   "source": [
    "Nimply = namedtuple(\"Nimply\", \"row, num_objects\") # move"
   ]
  },
  {
   "cell_type": "code",
   "execution_count": 3,
   "metadata": {},
   "outputs": [],
   "source": [
    "class Nim:\n",
    "    def __init__(self, num_rows: int, k: int = None) -> None:\n",
    "        self._rows = [i * 2 + 1 for i in range(num_rows)]\n",
    "        self._k = k\n",
    "\n",
    "    def __bool__(self):\n",
    "        return sum(self._rows) > 0\n",
    "\n",
    "    def __str__(self):\n",
    "        return \"<\" + \" \".join(str(_) for _ in self._rows) + \">\"\n",
    "\n",
    "    @property\n",
    "    def rows(self) -> tuple:\n",
    "        return tuple(self._rows)\n",
    "\n",
    "    @property\n",
    "    def k(self) -> int:\n",
    "        return self._k\n",
    "\n",
    "    def nimming(self, ply: Nimply) -> None:\n",
    "        row, num_objects = ply\n",
    "        assert self._rows[row] >= num_objects\n",
    "        assert self._k is None or num_objects <= self._k\n",
    "        self._rows[row] -= num_objects"
   ]
  },
  {
   "cell_type": "code",
   "execution_count": 4,
   "metadata": {},
   "outputs": [],
   "source": [
    "def all_possible_new_states(init_state: list) -> list:\n",
    "    \"\"\"Define all possible new states and return them as a list\"\"\"\n",
    "    possible_new_states = []\n",
    "\n",
    "    for row in range(len(init_state)): # for every row\n",
    "        for i in range(init_state[row]): # for the number of elem in row\n",
    "            new_state = deepcopy(init_state)\n",
    "\n",
    "            new_state[row] = new_state[row] - i - 1 #take away i+1 number of elem\n",
    "            #print(\"new state: \", new_state)\n",
    "            possible_new_states.append(new_state)\n",
    "            #print(possible_new_states)\n",
    "    #logging.debug(f\"All possible new states: {possible_new_states}\")\n",
    "    return possible_new_states\n",
    "            "
   ]
  },
  {
   "cell_type": "code",
   "execution_count": 5,
   "metadata": {},
   "outputs": [
    {
     "name": "stdout",
     "output_type": "stream",
     "text": [
      "poss state:  [[0, 3, 5], [1, 2, 5], [1, 1, 5], [1, 0, 5], [1, 3, 4], [1, 3, 3], [1, 3, 2], [1, 3, 1], [1, 3, 0]]\n"
     ]
    }
   ],
   "source": [
    "state = [1,3,5]\n",
    "print(\"poss state: \", all_possible_new_states(state))\n"
   ]
  },
  {
   "cell_type": "code",
   "execution_count": 6,
   "metadata": {},
   "outputs": [],
   "source": [
    "def evaluate(state_as_list: list, player: int) -> int:\n",
    "    \"\"\"Evaluate if the game is over. Returns: \n",
    "    -1 if player 0 (maximizing) won\n",
    "    1 if player 1 (minimizing) won\n",
    "    None if the game is not over yet\"\"\"\n",
    "    \n",
    "    if sum(state_as_list) == 0: # if game is over\n",
    "        return -1 if player == 0 else 1\n",
    "    else:\n",
    "        return None"
   ]
  },
  {
   "cell_type": "code",
   "execution_count": 7,
   "metadata": {},
   "outputs": [],
   "source": [
    "def minimax(state_as_list: list, player: int) -> int:\n",
    "    \"\"\"Calculates all possible moves using the minmax method from a given state and then returns the score. It returns the best score considering the player.\n",
    "    for player 0, best score is 1\n",
    "    for player 1, best score is -1\"\"\"\n",
    "    score = evaluate(state_as_list, player)\n",
    "\n",
    "    if score != None:\n",
    "        # if game is over\n",
    "        return score\n",
    "\n",
    "    if (player == 0): # if it is the maximizings turn\n",
    "        scores = [minimax(new_state, player=1) for new_state in all_possible_new_states(state_as_list)]\n",
    "        return max(scores)\n",
    "    \n",
    "    else: # if it is the minimizings turn\n",
    "        scores = [minimax(new_state, player=0) for new_state in all_possible_new_states(state_as_list)]\n",
    "        return min(scores)\n",
    "\n"
   ]
  },
  {
   "cell_type": "code",
   "execution_count": 8,
   "metadata": {},
   "outputs": [],
   "source": [
    "def best_move(state_as_list: list, player: int) -> tuple:\n",
    "    \"\"\"Returns a tuple (winner, new_state)\"\"\"\n",
    "    if player == 0: # if it is the maximizings turn\n",
    "        new_player = 1 \n",
    "        \n",
    "        # calculate the moves for the minimizer and then pic the best one\n",
    "        return max(\n",
    "            (minimax(new_state, new_player), new_state) \n",
    "            for new_state in all_possible_new_states(state_as_list)\n",
    "        )\n",
    "    else: # it is the minimizings turn\n",
    "        new_player = 0\n",
    "\n",
    "        #calculate the moves for the maximizer and then try to minimize them\n",
    "        return min( \n",
    "            (minimax(new_state, new_player), new_state)\n",
    "        for new_state in all_possible_new_states(state_as_list))\n",
    "    \n"
   ]
  },
  {
   "cell_type": "code",
   "execution_count": 9,
   "metadata": {},
   "outputs": [
    {
     "name": "stdout",
     "output_type": "stream",
     "text": [
      "(-1, [1, 1, 0])\n"
     ]
    }
   ],
   "source": [
    "test = [1,1,5]\n",
    "t = best_move(test, 1)\n",
    "print(t)"
   ]
  },
  {
   "cell_type": "code",
   "execution_count": 10,
   "metadata": {},
   "outputs": [],
   "source": [
    "def minimax_pruning(state_as_list: list, is_maximizing: bool, alpha=-1, beta=1) -> int:\n",
    "    if (score := evaluate(state_as_list, is_maximizing)) is not None: \n",
    "        # if the game is over\n",
    "        return score\n",
    "\n",
    "    scores = []\n",
    "    for new_state in all_possible_new_states(state_as_list):\n",
    "        scores.append(\n",
    "            score := minimax_pruning(new_state, not is_maximizing, alpha, beta)\n",
    "        )\n",
    "        \n",
    "        if is_maximizing:\n",
    "            alpha = max(alpha, score)\n",
    "        else:\n",
    "            beta = min(beta, score)\n",
    "\n",
    "        if beta <= alpha:\n",
    "            break\n",
    "        \n",
    "    return (max if is_maximizing else min)(scores)\n",
    "\n"
   ]
  },
  {
   "cell_type": "code",
   "execution_count": 11,
   "metadata": {},
   "outputs": [],
   "source": [
    "def best_move_pruning(state_as_list: list, player: int) -> tuple:\n",
    "    \"\"\" \"\"\"\n",
    "    if player == 0: # maximizing\n",
    "        return max(\n",
    "            (minimax_pruning(new_state, is_maximizing=False), new_state)\n",
    "            for new_state in all_possible_new_states(state_as_list)\n",
    "        )\n",
    "    else:\n",
    "        return min(\n",
    "            (minimax_pruning(new_state, is_maximizing=True), new_state)\n",
    "            for new_state in all_possible_new_states(state_as_list)\n",
    "        )"
   ]
  },
  {
   "cell_type": "code",
   "execution_count": 12,
   "metadata": {},
   "outputs": [
    {
     "name": "stdout",
     "output_type": "stream",
     "text": [
      "(-1, [1, 2, 2])\n"
     ]
    }
   ],
   "source": [
    "s = best_move_pruning([1,2,3], 0)\n",
    "print(s)"
   ]
  },
  {
   "cell_type": "code",
   "execution_count": 13,
   "metadata": {},
   "outputs": [],
   "source": [
    "def nimply_move(current_state: Nim, new_state: list) -> Nimply:\n",
    "    \n",
    "    diff = 0\n",
    "    row = len(current_state.rows) #invalid row\n",
    "    \n",
    "    for i in range(len(current_state.rows)):\n",
    "        \n",
    "        if current_state.rows[i] != new_state[i]:\n",
    "            diff = current_state.rows[i] - new_state[i]\n",
    "            row = i\n",
    "            \n",
    "    ply = Nimply(row, diff)\n",
    "\n",
    "    return ply"
   ]
  },
  {
   "cell_type": "code",
   "execution_count": 14,
   "metadata": {},
   "outputs": [],
   "source": [
    "def min_max_agent(state: Nim):\n",
    "\n",
    "    state_as_list = [] # convert the state to list to easier handle the recursion later on\n",
    "\n",
    "    for i in range(len(state.rows)):\n",
    "        state_as_list.append(state.rows[i])\n",
    "\n",
    "    logging.debug(f\"State as a list: {state_as_list}\")\n",
    "\n",
    "    best_move = best_move_pruning(state_as_list, player=0)\n",
    "    \n",
    "\n",
    "    move = best_move[1] # since best_move = (score, [new state])\n",
    "    logging.debug(f\"MOVE: {move}\")\n",
    "    # from best move -> turn it into a nimply\n",
    "    final_move = nimply_move(state, move)\n",
    "\n",
    "    return final_move"
   ]
  },
  {
   "cell_type": "code",
   "execution_count": 15,
   "metadata": {},
   "outputs": [
    {
     "name": "stderr",
     "output_type": "stream",
     "text": [
      "DEBUG:root:State as a list: [1, 3, 5]\n",
      "DEBUG:root:MOVE: [1, 3, 2]\n"
     ]
    },
    {
     "name": "stdout",
     "output_type": "stream",
     "text": [
      "RES: Nimply(row=2, num_objects=3)\n"
     ]
    }
   ],
   "source": [
    "state = [1,1,1,5]\n",
    "logging.getLogger().setLevel(logging.DEBUG)\n",
    "\n",
    "player = 1\n",
    "\n",
    "s = Nim(3)\n",
    "res = min_max_agent(s)\n",
    "print(\"RES:\", res)\n",
    "\n",
    "#print(\"state: \", state)\n",
    "\n",
    "#scores = best_move(state, player)\n",
    "#print(scores)\n",
    "\n",
    "#sc = best_move_pruning(state, player)\n",
    "#print(f\"sc {sc}\")\n",
    "#\"\"\""
   ]
  }
 ],
 "metadata": {
  "kernelspec": {
   "display_name": "Python 3.9.13 64-bit (microsoft store)",
   "language": "python",
   "name": "python3"
  },
  "language_info": {
   "codemirror_mode": {
    "name": "ipython",
    "version": 3
   },
   "file_extension": ".py",
   "mimetype": "text/x-python",
   "name": "python",
   "nbconvert_exporter": "python",
   "pygments_lexer": "ipython3",
   "version": "3.9.13"
  },
  "orig_nbformat": 4,
  "vscode": {
   "interpreter": {
    "hash": "8f2b8f7d7da3b55c8640ff0ad5b752ba61ffdffe564a4378c820bcd9964834b8"
   }
  }
 },
 "nbformat": 4,
 "nbformat_minor": 2
}
